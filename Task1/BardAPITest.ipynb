{
  "nbformat": 4,
  "nbformat_minor": 0,
  "metadata": {
    "colab": {
      "provenance": []
    },
    "kernelspec": {
      "name": "python3",
      "display_name": "Python 3"
    },
    "language_info": {
      "name": "python"
    }
  },
  "cells": [
    {
      "cell_type": "code",
      "execution_count": null,
      "metadata": {
        "id": "OepyKctXP852"
      },
      "outputs": [],
      "source": [
        "!pip install -q -U google-generativeai"
      ]
    },
    {
      "cell_type": "code",
      "source": [
        "import pathlib\n",
        "import textwrap\n",
        "from google import colab\n",
        "import google.generativeai as genai\n",
        "\n",
        "from IPython.display import display\n",
        "from IPython.display import Markdown\n",
        "\n",
        "\n",
        "def to_markdown(text):\n",
        "  text = text.replace('•', '  *')\n",
        "  return Markdown(textwrap.indent(text, '> ', predicate=lambda _: True))"
      ],
      "metadata": {
        "id": "stxj-aJ1QtEL"
      },
      "execution_count": null,
      "outputs": []
    },
    {
      "cell_type": "code",
      "source": [
        "colab.drive.mount('MyDrive')\n",
        "GOOGLE_API_KEY=next(open('./MyDrive/MyDrive/colabapikey.txt', 'r'))\n",
        "\n",
        "genai.configure(api_key=GOOGLE_API_KEY)"
      ],
      "metadata": {
        "colab": {
          "base_uri": "https://localhost:8080/"
        },
        "id": "_ijWzFbIQ2wv",
        "outputId": "9af76da5-f813-4467-dcab-3dafe7c9748c"
      },
      "execution_count": null,
      "outputs": [
        {
          "output_type": "stream",
          "name": "stdout",
          "text": [
            "Drive already mounted at MyDrive; to attempt to forcibly remount, call drive.mount(\"MyDrive\", force_remount=True).\n"
          ]
        }
      ]
    },
    {
      "cell_type": "code",
      "source": [
        "model = genai.GenerativeModel('gemini-pro')"
      ],
      "metadata": {
        "id": "jvlFOIGERAij"
      },
      "execution_count": null,
      "outputs": []
    },
    {
      "cell_type": "code",
      "source": [
        "%%time\n",
        "response = model.generate_content(\"\"\"On a scale of negative, neutral, or positive, how would you classify the financial sentiment of the paragraph enclosed within the angle brackets <>?\n",
        "          <Refinery revenues increased from $6.1 billion in 2021 to $10.7 billion in 2022, primarily driven by the increase in third-party refinery\n",
        "          sales and sales to the airline segment. The increase in third-party refinery sales resulted from higher pricing and production during 2022\n",
        "          compared to 2021. The refinery recorded an operating loss of $2 million in 2021 compared to operating income of $777 million in 2022\n",
        "          mainly due to the increased production and pricing, partially offset by higher Renewable Identification Numbers (\"RINs\") compliance\n",
        "          costs discussed below.>\"\"\")"
      ],
      "metadata": {
        "id": "95Y052oeRDhB"
      },
      "execution_count": null,
      "outputs": []
    },
    {
      "cell_type": "code",
      "source": [
        "response"
      ],
      "metadata": {
        "colab": {
          "base_uri": "https://localhost:8080/"
        },
        "id": "A-qCzIW1TR9m",
        "outputId": "993b2156-ccb5-4616-924a-a4bb85f940cb"
      },
      "execution_count": null,
      "outputs": [
        {
          "output_type": "execute_result",
          "data": {
            "text/plain": [
              "response:\n",
              "GenerateContentResponse(\n",
              "    done=True,\n",
              "    iterator=None,\n",
              "    result=glm.GenerateContentResponse({'candidates': [{'content': {'parts': [{'text': 'Positive'}], 'role': 'model'}, 'finish_reason': 1, 'index': 0, 'safety_ratings': [{'category': 9, 'probability': 1, 'blocked': False}, {'category': 8, 'probability': 1, 'blocked': False}, {'category': 7, 'probability': 1, 'blocked': False}, {'category': 10, 'probability': 1, 'blocked': False}], 'token_count': 0, 'grounding_attributions': []}]}),\n",
              ")"
            ]
          },
          "metadata": {},
          "execution_count": 6
        }
      ]
    },
    {
      "cell_type": "code",
      "source": [
        "to_markdown(response.text)"
      ],
      "metadata": {
        "colab": {
          "base_uri": "https://localhost:8080/",
          "height": 62
        },
        "id": "j_KwuPOORNXb",
        "outputId": "0370c94e-4e52-4c6c-f42e-cddf552f0e5d"
      },
      "execution_count": null,
      "outputs": [
        {
          "output_type": "execute_result",
          "data": {
            "text/plain": [
              "<IPython.core.display.Markdown object>"
            ],
            "text/markdown": "> Positive"
          },
          "metadata": {},
          "execution_count": 7
        }
      ]
    }
  ]
}