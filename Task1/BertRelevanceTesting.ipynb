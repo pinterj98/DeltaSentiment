{
 "cells": [
  {
   "cell_type": "code",
   "execution_count": 1,
   "id": "710e0b9c-f00a-451c-ab4d-10d335d69f14",
   "metadata": {},
   "outputs": [],
   "source": [
    "import torch"
   ]
  },
  {
   "cell_type": "code",
   "execution_count": 2,
   "id": "988f8646-7337-4ac2-be19-84f375d8d3ad",
   "metadata": {},
   "outputs": [
    {
     "data": {
      "text/plain": [
       "True"
      ]
     },
     "execution_count": 2,
     "metadata": {},
     "output_type": "execute_result"
    }
   ],
   "source": [
    "torch.cuda.is_available()"
   ]
  },
  {
   "cell_type": "code",
   "execution_count": 3,
   "id": "06dac919-7ee7-47bd-82ef-af16c41313e2",
   "metadata": {},
   "outputs": [],
   "source": [
    "import json\n",
    "with open('./combined_labeled_sentences.json', 'r', encoding='utf-8') as f:\n",
    "  dataset=json.load(f)"
   ]
  },
  {
   "cell_type": "code",
   "execution_count": 4,
   "id": "9c4ac9b9-44a4-40ac-a589-39c3ce2e47a3",
   "metadata": {},
   "outputs": [],
   "source": [
    "dataset_train = {x:dataset[x] for x in ['abt22_sentences.json', 'abt23_sentences.json', 'dal22_sentences.json', 'dal23_sentences.json', 'ehc22_sentences.json', 'ehc23_sentences.json', 'f22_sentences.json', 'f23_sentences.json', 'fdx22_sentences.json', 'fdx23_sentences.json', 'holx22_sentences.json', 'holx23_sentences.json', 'ogn22_sentences.json', 'ogn23_sentences.json', 'tsla22_sentences.json', 'ups22_sentences.json']}\n",
    "dataset_test1 = {x:dataset[x] for x in ['tsla23_sentences.json',  'ups23_sentences.json']} \n",
    "dataset_test2 = {x:dataset[x] for x in ['zbh22_sentences.json', 'zbh23_sentences.json']} \n",
    "\n",
    "import pandas as pd\n",
    "\n",
    "dataset_train_list = []\n",
    "for kulcs in dataset_train:\n",
    "  for elements in dataset_train[kulcs]:\n",
    "    dataset_train_list.append(elements)\n",
    "    \n",
    "dataset_test_list1 = []\n",
    "for kulcs in dataset_test1:\n",
    "  for elements in dataset_test1[kulcs]:\n",
    "    dataset_test_list1.append(elements)\n",
    "\n",
    "dataset_test_list2 = []\n",
    "for kulcs in dataset_test2:\n",
    "  for elements in dataset_test2[kulcs]:\n",
    "    dataset_test_list2.append(elements)\n",
    "    \n",
    "df_train=pd.DataFrame(dataset_train_list, columns=['text', 'label'])\n",
    "df_test1=pd.DataFrame(dataset_test_list1, columns=['text', 'label'])\n",
    "df_test2=pd.DataFrame(dataset_test_list2, columns=['text', 'label'])"
   ]
  },
  {
   "cell_type": "code",
   "execution_count": 5,
   "id": "04a6f7c9-4369-41c2-8b31-8a67ff928a24",
   "metadata": {},
   "outputs": [],
   "source": [
    "import pandas as pd\n",
    "import torch\n",
    "from torch.utils.data import DataLoader, Dataset\n",
    "from transformers import AutoModelForSequenceClassification, AutoTokenizer, Trainer, TrainingArguments, DataCollatorWithPadding\n",
    "\n",
    "class CustomDataset(Dataset):\n",
    "    def __init__(self, texts, labels, tokenizer, max_len):\n",
    "        self.texts = texts\n",
    "        self.labels = labels\n",
    "        self.tokenizer = tokenizer\n",
    "        self.max_len = max_len\n",
    "\n",
    "    def __len__(self):\n",
    "        return len(self.texts)\n",
    "\n",
    "    def __getitem__(self, idx):\n",
    "        text = self.texts[idx]\n",
    "        label = self.labels[idx]\n",
    "\n",
    "        encoding = self.tokenizer.encode_plus(\n",
    "            text,\n",
    "            add_special_tokens=True,\n",
    "            max_length=self.max_len,\n",
    "            return_token_type_ids=False,\n",
    "            padding='max_length',\n",
    "            truncation=True,\n",
    "            return_attention_mask=True,\n",
    "            return_tensors='pt',\n",
    "        )\n",
    "\n",
    "        return {\n",
    "            'text': text,\n",
    "            'input_ids': encoding['input_ids'].flatten(),\n",
    "            'attention_mask': encoding['attention_mask'].flatten(),\n",
    "            'label': torch.tensor(label, dtype=torch.float).unsqueeze(0)\n",
    "        }\n"
   ]
  },
  {
   "cell_type": "code",
   "execution_count": 6,
   "id": "8b32a880-33a5-46f9-941e-9582fb666be5",
   "metadata": {},
   "outputs": [
    {
     "name": "stderr",
     "output_type": "stream",
     "text": [
      "C:\\Users\\Jozsef\\anaconda3\\envs\\finms\\Lib\\site-packages\\huggingface_hub\\file_download.py:1132: FutureWarning: `resume_download` is deprecated and will be removed in version 1.0.0. Downloads always resume when possible. If you want to force a new download, use `force_download=True`.\n",
      "  warnings.warn(\n"
     ]
    }
   ],
   "source": [
    "model_name = \"yiyanghkust/finbert-tone\"\n",
    "model = torch.load('FullTrain2best')\n",
    "tokenizer = AutoTokenizer.from_pretrained(model_name)\n",
    "data_collator = DataCollatorWithPadding(tokenizer)"
   ]
  },
  {
   "cell_type": "code",
   "execution_count": 10,
   "id": "794d23bb-9949-4e17-bc46-60828f08082e",
   "metadata": {},
   "outputs": [
    {
     "data": {
      "text/plain": [
       "109801089"
      ]
     },
     "execution_count": 10,
     "metadata": {},
     "output_type": "execute_result"
    }
   ],
   "source": [
    "sum(p.numel() for p in model.parameters())"
   ]
  },
  {
   "cell_type": "code",
   "execution_count": null,
   "id": "1bcf72f3-185f-432c-b827-16b81f4e97cd",
   "metadata": {},
   "outputs": [],
   "source": []
  },
  {
   "cell_type": "code",
   "execution_count": 9,
   "id": "001267f7-a799-4617-a0b5-c6ef5db5c528",
   "metadata": {},
   "outputs": [],
   "source": [
    "for param in model.parameters():\n",
    "    param.requires_grad = False"
   ]
  },
  {
   "cell_type": "code",
   "execution_count": 10,
   "id": "76948be5-66ba-4a07-9898-31cde3fa4a59",
   "metadata": {},
   "outputs": [],
   "source": [
    "model.problem_type='multi_label_classification'\n",
    "model.config.problem_type='multi_label_classification'"
   ]
  },
  {
   "cell_type": "code",
   "execution_count": 11,
   "id": "aaa625ef-0ab7-4ac0-a472-7ec6156fb2bc",
   "metadata": {},
   "outputs": [],
   "source": [
    "for param in model.classifier.parameters():\n",
    "    param.requires_grad = False"
   ]
  },
  {
   "cell_type": "code",
   "execution_count": 40,
   "id": "948efdb8-b10b-44b7-a5f4-0520cdd43ec4",
   "metadata": {},
   "outputs": [],
   "source": [
    "df_train=df_train.sample(frac=1)\n",
    "\n",
    "train_data = CustomDataset(\n",
    "    texts=df_train['text'].tolist()[:],\n",
    "    labels=df_train['label'].tolist()[:],\n",
    "    tokenizer=tokenizer,\n",
    "    max_len=256\n",
    ")\n",
    "\n",
    "val_data = CustomDataset(\n",
    "    texts=df_train['text'].tolist()[35000:],\n",
    "    labels=df_train['label'].tolist()[35000:],\n",
    "    tokenizer=tokenizer,\n",
    "    max_len=256\n",
    ")\n",
    "\n",
    "test_data1 = CustomDataset(\n",
    "    texts=df_test1['text'].tolist(),\n",
    "    labels=df_test1['label'].tolist(),\n",
    "    tokenizer=tokenizer,\n",
    "    max_len=256\n",
    ")\n",
    "\n",
    "test_data2 = CustomDataset(\n",
    "    texts=df_test2['text'].tolist(),\n",
    "    labels=df_test2['label'].tolist(),\n",
    "    tokenizer=tokenizer,\n",
    "    max_len=256\n",
    ")\n",
    "\n",
    "train_dataloader = DataLoader(train_data, batch_size=512, shuffle=False)\n",
    "val_dataloader = DataLoader(val_data, batch_size=512, shuffle=False)\n",
    "test1_dataloader = DataLoader(test_data1, batch_size=512, shuffle=False)\n",
    "test2_dataloader = DataLoader(test_data2, batch_size=512, shuffle=False)"
   ]
  },
  {
   "cell_type": "code",
   "execution_count": 41,
   "id": "1b2212a5-c75e-4e4d-8c92-146bdee0885a",
   "metadata": {},
   "outputs": [],
   "source": [
    "import numpy as np\n",
    "from sklearn.metrics import accuracy_score, f1_score\n",
    "\n",
    "def compute_metrics(p):\n",
    "    preds = p.predictions\n",
    "    preds = torch.sigmoid(torch.tensor(preds)).numpy() > 0.5\n",
    "    labels = p.label_ids\n",
    "    acc = accuracy_score(labels, preds)\n",
    "    f1 = f1_score(labels, preds)\n",
    "    return {\"accuracy\": acc, \"f1\": f1}"
   ]
  },
  {
   "cell_type": "code",
   "execution_count": 42,
   "id": "b9cd2f09-5214-4f13-807d-25273a93b77c",
   "metadata": {},
   "outputs": [
    {
     "data": {
      "text/plain": [
       "BertForSequenceClassification(\n",
       "  (bert): BertModel(\n",
       "    (embeddings): BertEmbeddings(\n",
       "      (word_embeddings): Embedding(30873, 768, padding_idx=0)\n",
       "      (position_embeddings): Embedding(512, 768)\n",
       "      (token_type_embeddings): Embedding(2, 768)\n",
       "      (LayerNorm): LayerNorm((768,), eps=1e-12, elementwise_affine=True)\n",
       "      (dropout): Dropout(p=0.1, inplace=False)\n",
       "    )\n",
       "    (encoder): BertEncoder(\n",
       "      (layer): ModuleList(\n",
       "        (0-11): 12 x BertLayer(\n",
       "          (attention): BertAttention(\n",
       "            (self): BertSelfAttention(\n",
       "              (query): Linear(in_features=768, out_features=768, bias=True)\n",
       "              (key): Linear(in_features=768, out_features=768, bias=True)\n",
       "              (value): Linear(in_features=768, out_features=768, bias=True)\n",
       "              (dropout): Dropout(p=0.1, inplace=False)\n",
       "            )\n",
       "            (output): BertSelfOutput(\n",
       "              (dense): Linear(in_features=768, out_features=768, bias=True)\n",
       "              (LayerNorm): LayerNorm((768,), eps=1e-12, elementwise_affine=True)\n",
       "              (dropout): Dropout(p=0.1, inplace=False)\n",
       "            )\n",
       "          )\n",
       "          (intermediate): BertIntermediate(\n",
       "            (dense): Linear(in_features=768, out_features=3072, bias=True)\n",
       "            (intermediate_act_fn): GELUActivation()\n",
       "          )\n",
       "          (output): BertOutput(\n",
       "            (dense): Linear(in_features=3072, out_features=768, bias=True)\n",
       "            (LayerNorm): LayerNorm((768,), eps=1e-12, elementwise_affine=True)\n",
       "            (dropout): Dropout(p=0.1, inplace=False)\n",
       "          )\n",
       "        )\n",
       "      )\n",
       "    )\n",
       "    (pooler): BertPooler(\n",
       "      (dense): Linear(in_features=768, out_features=768, bias=True)\n",
       "      (activation): Tanh()\n",
       "    )\n",
       "  )\n",
       "  (dropout): Dropout(p=0.1, inplace=False)\n",
       "  (classifier): Sequential(\n",
       "    (0): Linear(in_features=768, out_features=64, bias=True)\n",
       "    (1): ReLU()\n",
       "    (2): Linear(in_features=64, out_features=1, bias=True)\n",
       "  )\n",
       ")"
      ]
     },
     "execution_count": 42,
     "metadata": {},
     "output_type": "execute_result"
    }
   ],
   "source": [
    "model.to('cuda')"
   ]
  },
  {
   "cell_type": "code",
   "execution_count": 43,
   "id": "f2f8b10a-e9ce-4671-b86c-7da017bb5ed7",
   "metadata": {},
   "outputs": [
    {
     "data": {
      "text/plain": [
       "BertForSequenceClassification(\n",
       "  (bert): BertModel(\n",
       "    (embeddings): BertEmbeddings(\n",
       "      (word_embeddings): Embedding(30873, 768, padding_idx=0)\n",
       "      (position_embeddings): Embedding(512, 768)\n",
       "      (token_type_embeddings): Embedding(2, 768)\n",
       "      (LayerNorm): LayerNorm((768,), eps=1e-12, elementwise_affine=True)\n",
       "      (dropout): Dropout(p=0.1, inplace=False)\n",
       "    )\n",
       "    (encoder): BertEncoder(\n",
       "      (layer): ModuleList(\n",
       "        (0-11): 12 x BertLayer(\n",
       "          (attention): BertAttention(\n",
       "            (self): BertSelfAttention(\n",
       "              (query): Linear(in_features=768, out_features=768, bias=True)\n",
       "              (key): Linear(in_features=768, out_features=768, bias=True)\n",
       "              (value): Linear(in_features=768, out_features=768, bias=True)\n",
       "              (dropout): Dropout(p=0.1, inplace=False)\n",
       "            )\n",
       "            (output): BertSelfOutput(\n",
       "              (dense): Linear(in_features=768, out_features=768, bias=True)\n",
       "              (LayerNorm): LayerNorm((768,), eps=1e-12, elementwise_affine=True)\n",
       "              (dropout): Dropout(p=0.1, inplace=False)\n",
       "            )\n",
       "          )\n",
       "          (intermediate): BertIntermediate(\n",
       "            (dense): Linear(in_features=768, out_features=3072, bias=True)\n",
       "            (intermediate_act_fn): GELUActivation()\n",
       "          )\n",
       "          (output): BertOutput(\n",
       "            (dense): Linear(in_features=3072, out_features=768, bias=True)\n",
       "            (LayerNorm): LayerNorm((768,), eps=1e-12, elementwise_affine=True)\n",
       "            (dropout): Dropout(p=0.1, inplace=False)\n",
       "          )\n",
       "        )\n",
       "      )\n",
       "    )\n",
       "    (pooler): BertPooler(\n",
       "      (dense): Linear(in_features=768, out_features=768, bias=True)\n",
       "      (activation): Tanh()\n",
       "    )\n",
       "  )\n",
       "  (dropout): Dropout(p=0.1, inplace=False)\n",
       "  (classifier): Sequential(\n",
       "    (0): Linear(in_features=768, out_features=64, bias=True)\n",
       "    (1): ReLU()\n",
       "    (2): Linear(in_features=64, out_features=1, bias=True)\n",
       "  )\n",
       ")"
      ]
     },
     "execution_count": 43,
     "metadata": {},
     "output_type": "execute_result"
    }
   ],
   "source": [
    "model.eval()"
   ]
  },
  {
   "cell_type": "code",
   "execution_count": 44,
   "id": "b29c9da0-ed4b-4eae-8f73-10951cedcf47",
   "metadata": {},
   "outputs": [],
   "source": [
    "def predict(model, dataloader):\n",
    "    predictions = []\n",
    "    with torch.no_grad():\n",
    "        for batch in dataloader:\n",
    "            input_ids = batch['input_ids'].to('cuda')\n",
    "            attention_mask = batch['attention_mask'].to('cuda')\n",
    "            outputs = model(input_ids, attention_mask=attention_mask)\n",
    "            logits = outputs.logits\n",
    "            preds = torch.sigmoid(logits).cpu().numpy()\n",
    "            predictions.extend(preds)\n",
    "    return [x[0] for x in predictions]"
   ]
  },
  {
   "cell_type": "code",
   "execution_count": 45,
   "id": "3d4f04f3-af22-457e-9a2f-bb600ae5b4b2",
   "metadata": {},
   "outputs": [
    {
     "data": {
      "text/plain": [
       "<__main__.CustomDataset at 0x23186ab0c80>"
      ]
     },
     "execution_count": 45,
     "metadata": {},
     "output_type": "execute_result"
    }
   ],
   "source": [
    "val_data"
   ]
  },
  {
   "cell_type": "code",
   "execution_count": 46,
   "id": "d68bb96c-6351-47d0-b355-cc3b0938ed3d",
   "metadata": {},
   "outputs": [],
   "source": [
    "predictions_train = predict(model, train_dataloader)\n",
    "predictions_test1 = predict(model, test1_dataloader)\n",
    "predictions_test2 = predict(model, test2_dataloader)"
   ]
  },
  {
   "cell_type": "code",
   "execution_count": 54,
   "id": "3717ceb3-34d0-460d-8a05-82868e7070a7",
   "metadata": {},
   "outputs": [],
   "source": [
    "predictions_train = np.array(predictions_train)"
   ]
  },
  {
   "cell_type": "code",
   "execution_count": 55,
   "id": "c8d9c9d1-68d4-40c7-b8ad-d7b43317682b",
   "metadata": {},
   "outputs": [],
   "source": [
    "predictions_test1 = np.array(predictions_test1)\n",
    "predictions_test2 = np.array(predictions_test2)"
   ]
  },
  {
   "cell_type": "code",
   "execution_count": 61,
   "id": "99f1f1d1-37e7-4d6b-a665-8255e7510b9e",
   "metadata": {},
   "outputs": [],
   "source": [
    "labels_train=df_train.label\n",
    "labels_test1=df_test1.label\n",
    "labels_test2=df_test2.label"
   ]
  },
  {
   "cell_type": "code",
   "execution_count": 98,
   "id": "b81897de-2447-44d4-960d-d8361704760a",
   "metadata": {},
   "outputs": [],
   "source": [
    "from sklearn.metrics import accuracy_score, precision_score, recall_score, f1_score, roc_auc_score, average_precision_score"
   ]
  },
  {
   "cell_type": "code",
   "execution_count": 99,
   "id": "952fdcfc-7585-46f7-a5b6-1b27b96175bd",
   "metadata": {},
   "outputs": [],
   "source": [
    "def print_metrics(predictions, labels, set_name):\n",
    "    accuracy = accuracy_score(labels, predictions>0.9)\n",
    "    precision = precision_score(labels, predictions>0.9)\n",
    "    recall = recall_score(labels, predictions>0.9)\n",
    "    f1 = f1_score(labels, predictions>0.9)\n",
    "    roc_auc = roc_auc_score(labels, predictions)\n",
    "    average_prec = average_precision_score(labels, predictions)\n",
    "\n",
    "    print(f\"Metrics for {set_name}:\")\n",
    "    print(f\"Accuracy: {accuracy:.4f}\")\n",
    "    print(f\"Precision: {precision:.4f}\")\n",
    "    print(f\"Recall: {recall:.4f}\")\n",
    "    print(f\"F1-Score: {f1:.4f}\")\n",
    "    print(f\"ROC-AUC: {roc_auc:.4f}\")\n",
    "    print(f\"AVG-PREC: {average_prec:.4f}\")\n",
    "    print()"
   ]
  },
  {
   "cell_type": "code",
   "execution_count": 100,
   "id": "2049d337-9adc-425e-983f-bdcc4051b11b",
   "metadata": {},
   "outputs": [
    {
     "name": "stdout",
     "output_type": "stream",
     "text": [
      "Metrics for Training Set:\n",
      "Accuracy: 0.9374\n",
      "Precision: 0.8953\n",
      "Recall: 0.7767\n",
      "F1-Score: 0.8318\n",
      "ROC-AUC: 0.9770\n",
      "AVG-PREC: 0.9250\n",
      "\n",
      "Metrics for Test Set 1:\n",
      "Accuracy: 0.9190\n",
      "Precision: 0.8387\n",
      "Recall: 0.7609\n",
      "F1-Score: 0.7979\n",
      "ROC-AUC: 0.9590\n",
      "AVG-PREC: 0.8919\n",
      "\n",
      "Metrics for Test Set 2:\n",
      "Accuracy: 0.9193\n",
      "Precision: 0.8343\n",
      "Recall: 0.7362\n",
      "F1-Score: 0.7822\n",
      "ROC-AUC: 0.9563\n",
      "AVG-PREC: 0.8725\n",
      "\n"
     ]
    }
   ],
   "source": [
    "print_metrics(predictions_train, labels_train, \"Training Set\")\n",
    "print_metrics(predictions_test1, labels_test1, \"Test Set 1\")\n",
    "print_metrics(predictions_test2, labels_test2, \"Test Set 2\")"
   ]
  },
  {
   "cell_type": "code",
   "execution_count": 101,
   "id": "6e2d7eeb-bb68-4e48-991e-0c3998ae272d",
   "metadata": {},
   "outputs": [],
   "source": [
    "import plotly.express as px"
   ]
  },
  {
   "cell_type": "code",
   "execution_count": 105,
   "id": "a5faf4aa-6ef1-46d6-9dcd-c0fc03c927df",
   "metadata": {},
   "outputs": [],
   "source": [
    "dfResults=pd.DataFrame({\n",
    "    'accuracy': [0.9374, 0.9190, 0.9193],\n",
    "    'precision': [0.8953, 0.8387, 0.8343],\n",
    "    'recall': [0.7767, 0.7609, 0.7362],\n",
    "    'f1_score': [0.8318, 0.7979, 0.7822],\n",
    "    'roc_auc': [0.9770, 0.9590, 0.9563],\n",
    "    'avg_prec': [0.9250, 0.8919, 0.8725],\n",
    "    'set': ['Train', 'Test1', 'Test2']\n",
    "})"
   ]
  },
  {
   "cell_type": "code",
   "execution_count": 106,
   "id": "4b157ca6-ff78-471d-a84a-56b52d34736f",
   "metadata": {},
   "outputs": [
    {
     "data": {
      "text/html": [
       "<div>\n",
       "<style scoped>\n",
       "    .dataframe tbody tr th:only-of-type {\n",
       "        vertical-align: middle;\n",
       "    }\n",
       "\n",
       "    .dataframe tbody tr th {\n",
       "        vertical-align: top;\n",
       "    }\n",
       "\n",
       "    .dataframe thead th {\n",
       "        text-align: right;\n",
       "    }\n",
       "</style>\n",
       "<table border=\"1\" class=\"dataframe\">\n",
       "  <thead>\n",
       "    <tr style=\"text-align: right;\">\n",
       "      <th></th>\n",
       "      <th>accuracy</th>\n",
       "      <th>precision</th>\n",
       "      <th>recall</th>\n",
       "      <th>f1_score</th>\n",
       "      <th>roc_auc</th>\n",
       "      <th>avg_prec</th>\n",
       "      <th>set</th>\n",
       "    </tr>\n",
       "  </thead>\n",
       "  <tbody>\n",
       "    <tr>\n",
       "      <th>0</th>\n",
       "      <td>0.9374</td>\n",
       "      <td>0.8953</td>\n",
       "      <td>0.7767</td>\n",
       "      <td>0.8318</td>\n",
       "      <td>0.9770</td>\n",
       "      <td>0.9250</td>\n",
       "      <td>Train</td>\n",
       "    </tr>\n",
       "    <tr>\n",
       "      <th>1</th>\n",
       "      <td>0.9190</td>\n",
       "      <td>0.8387</td>\n",
       "      <td>0.7609</td>\n",
       "      <td>0.7979</td>\n",
       "      <td>0.9590</td>\n",
       "      <td>0.8919</td>\n",
       "      <td>Test1</td>\n",
       "    </tr>\n",
       "    <tr>\n",
       "      <th>2</th>\n",
       "      <td>0.9193</td>\n",
       "      <td>0.8343</td>\n",
       "      <td>0.7362</td>\n",
       "      <td>0.7822</td>\n",
       "      <td>0.9563</td>\n",
       "      <td>0.8725</td>\n",
       "      <td>Test2</td>\n",
       "    </tr>\n",
       "  </tbody>\n",
       "</table>\n",
       "</div>"
      ],
      "text/plain": [
       "   accuracy  precision  recall  f1_score  roc_auc  avg_prec    set\n",
       "0    0.9374     0.8953  0.7767    0.8318   0.9770    0.9250  Train\n",
       "1    0.9190     0.8387  0.7609    0.7979   0.9590    0.8919  Test1\n",
       "2    0.9193     0.8343  0.7362    0.7822   0.9563    0.8725  Test2"
      ]
     },
     "execution_count": 106,
     "metadata": {},
     "output_type": "execute_result"
    }
   ],
   "source": [
    "dfResults"
   ]
  },
  {
   "cell_type": "code",
   "execution_count": 107,
   "id": "daf4b648-c992-49d6-a36e-504f348fbc98",
   "metadata": {},
   "outputs": [
    {
     "data": {
      "text/html": [
       "<div>\n",
       "<style scoped>\n",
       "    .dataframe tbody tr th:only-of-type {\n",
       "        vertical-align: middle;\n",
       "    }\n",
       "\n",
       "    .dataframe tbody tr th {\n",
       "        vertical-align: top;\n",
       "    }\n",
       "\n",
       "    .dataframe thead th {\n",
       "        text-align: right;\n",
       "    }\n",
       "</style>\n",
       "<table border=\"1\" class=\"dataframe\">\n",
       "  <thead>\n",
       "    <tr style=\"text-align: right;\">\n",
       "      <th></th>\n",
       "      <th>set</th>\n",
       "      <th>metric</th>\n",
       "      <th>value</th>\n",
       "    </tr>\n",
       "  </thead>\n",
       "  <tbody>\n",
       "    <tr>\n",
       "      <th>0</th>\n",
       "      <td>Train</td>\n",
       "      <td>accuracy</td>\n",
       "      <td>0.9374</td>\n",
       "    </tr>\n",
       "    <tr>\n",
       "      <th>1</th>\n",
       "      <td>Test1</td>\n",
       "      <td>accuracy</td>\n",
       "      <td>0.9190</td>\n",
       "    </tr>\n",
       "    <tr>\n",
       "      <th>2</th>\n",
       "      <td>Test2</td>\n",
       "      <td>accuracy</td>\n",
       "      <td>0.9193</td>\n",
       "    </tr>\n",
       "    <tr>\n",
       "      <th>3</th>\n",
       "      <td>Train</td>\n",
       "      <td>precision</td>\n",
       "      <td>0.8953</td>\n",
       "    </tr>\n",
       "    <tr>\n",
       "      <th>4</th>\n",
       "      <td>Test1</td>\n",
       "      <td>precision</td>\n",
       "      <td>0.8387</td>\n",
       "    </tr>\n",
       "    <tr>\n",
       "      <th>5</th>\n",
       "      <td>Test2</td>\n",
       "      <td>precision</td>\n",
       "      <td>0.8343</td>\n",
       "    </tr>\n",
       "    <tr>\n",
       "      <th>6</th>\n",
       "      <td>Train</td>\n",
       "      <td>recall</td>\n",
       "      <td>0.7767</td>\n",
       "    </tr>\n",
       "    <tr>\n",
       "      <th>7</th>\n",
       "      <td>Test1</td>\n",
       "      <td>recall</td>\n",
       "      <td>0.7609</td>\n",
       "    </tr>\n",
       "    <tr>\n",
       "      <th>8</th>\n",
       "      <td>Test2</td>\n",
       "      <td>recall</td>\n",
       "      <td>0.7362</td>\n",
       "    </tr>\n",
       "    <tr>\n",
       "      <th>9</th>\n",
       "      <td>Train</td>\n",
       "      <td>f1_score</td>\n",
       "      <td>0.8318</td>\n",
       "    </tr>\n",
       "    <tr>\n",
       "      <th>10</th>\n",
       "      <td>Test1</td>\n",
       "      <td>f1_score</td>\n",
       "      <td>0.7979</td>\n",
       "    </tr>\n",
       "    <tr>\n",
       "      <th>11</th>\n",
       "      <td>Test2</td>\n",
       "      <td>f1_score</td>\n",
       "      <td>0.7822</td>\n",
       "    </tr>\n",
       "    <tr>\n",
       "      <th>12</th>\n",
       "      <td>Train</td>\n",
       "      <td>roc_auc</td>\n",
       "      <td>0.9770</td>\n",
       "    </tr>\n",
       "    <tr>\n",
       "      <th>13</th>\n",
       "      <td>Test1</td>\n",
       "      <td>roc_auc</td>\n",
       "      <td>0.9590</td>\n",
       "    </tr>\n",
       "    <tr>\n",
       "      <th>14</th>\n",
       "      <td>Test2</td>\n",
       "      <td>roc_auc</td>\n",
       "      <td>0.9563</td>\n",
       "    </tr>\n",
       "    <tr>\n",
       "      <th>15</th>\n",
       "      <td>Train</td>\n",
       "      <td>avg_prec</td>\n",
       "      <td>0.9250</td>\n",
       "    </tr>\n",
       "    <tr>\n",
       "      <th>16</th>\n",
       "      <td>Test1</td>\n",
       "      <td>avg_prec</td>\n",
       "      <td>0.8919</td>\n",
       "    </tr>\n",
       "    <tr>\n",
       "      <th>17</th>\n",
       "      <td>Test2</td>\n",
       "      <td>avg_prec</td>\n",
       "      <td>0.8725</td>\n",
       "    </tr>\n",
       "  </tbody>\n",
       "</table>\n",
       "</div>"
      ],
      "text/plain": [
       "      set     metric   value\n",
       "0   Train   accuracy  0.9374\n",
       "1   Test1   accuracy  0.9190\n",
       "2   Test2   accuracy  0.9193\n",
       "3   Train  precision  0.8953\n",
       "4   Test1  precision  0.8387\n",
       "5   Test2  precision  0.8343\n",
       "6   Train     recall  0.7767\n",
       "7   Test1     recall  0.7609\n",
       "8   Test2     recall  0.7362\n",
       "9   Train   f1_score  0.8318\n",
       "10  Test1   f1_score  0.7979\n",
       "11  Test2   f1_score  0.7822\n",
       "12  Train    roc_auc  0.9770\n",
       "13  Test1    roc_auc  0.9590\n",
       "14  Test2    roc_auc  0.9563\n",
       "15  Train   avg_prec  0.9250\n",
       "16  Test1   avg_prec  0.8919\n",
       "17  Test2   avg_prec  0.8725"
      ]
     },
     "execution_count": 107,
     "metadata": {},
     "output_type": "execute_result"
    }
   ],
   "source": [
    "df_tall = pd.melt(dfResults, id_vars=['set'], var_name='metric', value_name='value')\n",
    "\n",
    "df_tall.reset_index(inplace=True, drop=True)\n",
    "\n",
    "df_tall"
   ]
  },
  {
   "cell_type": "code",
   "execution_count": 108,
   "id": "73131d8b-b784-4bbd-98b3-64619b464f14",
   "metadata": {},
   "outputs": [],
   "source": [
    "import plotly.io as pio\n",
    "pio.renderers.default = 'iframe'"
   ]
  },
  {
   "cell_type": "code",
   "execution_count": 119,
   "id": "b2584ea5-d9e1-40ce-91da-ef26738e2bac",
   "metadata": {},
   "outputs": [
    {
     "data": {
      "text/html": [
       "<iframe\n",
       "    scrolling=\"no\"\n",
       "    width=\"100%\"\n",
       "    height=\"545px\"\n",
       "    src=\"iframe_figures/figure_119.html\"\n",
       "    frameborder=\"0\"\n",
       "    allowfullscreen\n",
       "></iframe>\n"
      ]
     },
     "metadata": {},
     "output_type": "display_data"
    }
   ],
   "source": [
    "color_discrete_map = {\n",
    "    'Train': 'rgb(232, 144, 21)',\n",
    "    'Test1': 'rgb(0, 143, 232)',\n",
    "    'Test2': 'rgb(2, 112, 181)'\n",
    "}\n",
    "fig = px.bar(df_tall, x='metric', y='value', color='set', barmode='group', color_discrete_map=color_discrete_map, labels={'set':'Dataset', 'metric':'Metric', 'value':'Performance'})\n",
    "fig.write_html('BertRelevancePerformance.html')\n",
    "fig.show()"
   ]
  },
  {
   "cell_type": "code",
   "execution_count": 140,
   "id": "46ebd501-a58e-4560-8b48-600f25a9f2bc",
   "metadata": {},
   "outputs": [
    {
     "data": {
      "image/png": "[encoded data removed]",
      "text/plain": [
       "<Figure size 640x480 with 1 Axes>"
      ]
     },
     "metadata": {},
     "output_type": "display_data"
    }
   ],
   "source": [
    "import matplotlib.pyplot as plt\n",
    "from sklearn.metrics import roc_curve, auc\n",
    "\n",
    "\n",
    "def plot_roc_curve(probabilitiess, labelss, set_names, colors):\n",
    "    plt.figure()\n",
    "    for ind in range(len(probabilitiess)):\n",
    "        fpr, tpr, _ = roc_curve(labelss[ind], probabilitiess[ind])\n",
    "        roc_auc = auc(fpr, tpr)\n",
    "        plt.plot(fpr, tpr, color=colors[ind], lw=3, label=f'{set_names[ind]} ROC-AUC = {roc_auc:.2f}')\n",
    "    plt.plot([0, 1], [0, 1], color='navy', lw=2, linestyle='--')\n",
    "    plt.xlim([0.0, 1.0])\n",
    "    plt.ylim([0.0, 1.0])\n",
    "    plt.xlabel('False Positive Rate')\n",
    "    plt.ylabel('True Positive Rate')\n",
    "    plt.title(f'ROC-Curve')\n",
    "    plt.legend(loc=\"lower right\")\n",
    "    plt.show()\n",
    "\n",
    "# Plot ROC curves for each set\n",
    "plot_roc_curve([predictions_train, predictions_test1, predictions_test2], [labels_train, labels_test1, labels_test2], [\"Train\", \"Test1\", \"Test2\"], colors=[(232/255, 144/255, 21/255), (0/255, 143/255, 232/255), (2/255, 112/255, 181/255)])"
   ]
  },
  {
   "cell_type": "code",
   "execution_count": 141,
   "id": "36e830f4-8ede-41c1-b11d-ca9f363e1d3c",
   "metadata": {},
   "outputs": [],
   "source": [
    "import matplotlib.pyplot as plt\n",
    "from sklearn.metrics import precision_recall_curve, average_precision_score\n",
    "\n",
    "\n",
    "def plot_roc_curve(probabilitiess, labelss, set_names, colors):\n",
    "    plt.figure()\n",
    "    for ind in range(len(probabilitiess)):\n",
    "        fpr, tpr, _ = precision_recall_curve(labelss[ind], probabilitiess[ind])\n",
    "        roc_auc = average_precision_score(labelss[ind], probabilitiess[ind])\n",
    "        plt.plot(fpr, tpr, color=colors[ind], lw=3, label=f'{set_names[ind]} AVG-PREC = {roc_auc:.2f}')\n",
    "    plt.plot([0, 1], [0, 1], color='navy', lw=2, linestyle='--')\n",
    "    plt.xlim([0.0, 1.0])\n",
    "    plt.ylim([0.0, 1.0])\n",
    "    plt.xlabel('Recall')\n",
    "    plt.ylabel('Precision')\n",
    "    plt.title(f'Precision - Recall Curve')\n",
    "    plt.legend(loc=\"lower right\")\n",
    "    plt.show()"
   ]
  },
  {
   "cell_type": "code",
   "execution_count": 139,
   "id": "d8f50768-4e5c-4d3e-bde4-46ca7846b2b5",
   "metadata": {},
   "outputs": [
    {
     "data": {
      "image/png": "[encoded data removed]",
      "text/plain": [
       "<Figure size 640x480 with 1 Axes>"
      ]
     },
     "metadata": {},
     "output_type": "display_data"
    }
   ],
   "source": [
    "plot_roc_curve([predictions_train, predictions_test1, predictions_test2], [labels_train, labels_test1, labels_test2], [\"Train\", \"Test1\", \"Test2\"], colors=[(232/255, 144/255, 21/255), (0/255, 143/255, 232/255), (2/255, 112/255, 181/255)])"
   ]
  },
  {
   "cell_type": "code",
   "execution_count": 145,
   "id": "c634de92-20a7-403e-86ca-072572d23cae",
   "metadata": {},
   "outputs": [
    {
     "data": {
      "text/html": [
       "<div>\n",
       "<style scoped>\n",
       "    .dataframe tbody tr th:only-of-type {\n",
       "        vertical-align: middle;\n",
       "    }\n",
       "\n",
       "    .dataframe tbody tr th {\n",
       "        vertical-align: top;\n",
       "    }\n",
       "\n",
       "    .dataframe thead th {\n",
       "        text-align: right;\n",
       "    }\n",
       "</style>\n",
       "<table border=\"1\" class=\"dataframe\">\n",
       "  <thead>\n",
       "    <tr style=\"text-align: right;\">\n",
       "      <th></th>\n",
       "      <th>text</th>\n",
       "      <th>label</th>\n",
       "    </tr>\n",
       "  </thead>\n",
       "  <tbody>\n",
       "    <tr>\n",
       "      <th>0</th>\n",
       "      <td>ANNUAL REPORT PURSUANT TO SECTION 13 OR 15(d) ...</td>\n",
       "      <td>0</td>\n",
       "    </tr>\n",
       "    <tr>\n",
       "      <th>1</th>\n",
       "      <td>(Exact name of registrant as specified in its ...</td>\n",
       "      <td>0</td>\n",
       "    </tr>\n",
       "    <tr>\n",
       "      <th>2</th>\n",
       "      <td>...</td>\n",
       "      <td>0</td>\n",
       "    </tr>\n",
       "    <tr>\n",
       "      <th>3</th>\n",
       "      <td>Securities registered pursuant to Section 12(b...</td>\n",
       "      <td>0</td>\n",
       "    </tr>\n",
       "    <tr>\n",
       "      <th>4</th>\n",
       "      <td>Title of each class...</td>\n",
       "      <td>0</td>\n",
       "    </tr>\n",
       "    <tr>\n",
       "      <th>...</th>\n",
       "      <td>...</td>\n",
       "      <td>...</td>\n",
       "    </tr>\n",
       "    <tr>\n",
       "      <th>4058</th>\n",
       "      <td>Pursuant to the requirements of the Securities...</td>\n",
       "      <td>0</td>\n",
       "    </tr>\n",
       "    <tr>\n",
       "      <th>4059</th>\n",
       "      <td>Chief   Financial Officer and Executive Vice P...</td>\n",
       "      <td>0</td>\n",
       "    </tr>\n",
       "    <tr>\n",
       "      <th>4060</th>\n",
       "      <td>/s/ Paul Stellato                             ...</td>\n",
       "      <td>0</td>\n",
       "    </tr>\n",
       "    <tr>\n",
       "      <th>4061</th>\n",
       "      <td>/s/ Maria Teresa Hilado                       ...</td>\n",
       "      <td>0</td>\n",
       "    </tr>\n",
       "    <tr>\n",
       "      <th>4062</th>\n",
       "      <td>/s/ Louis A. Shapiro                          ...</td>\n",
       "      <td>0</td>\n",
       "    </tr>\n",
       "  </tbody>\n",
       "</table>\n",
       "<p>4063 rows × 2 columns</p>\n",
       "</div>"
      ],
      "text/plain": [
       "                                                   text  label\n",
       "0     ANNUAL REPORT PURSUANT TO SECTION 13 OR 15(d) ...      0\n",
       "1     (Exact name of registrant as specified in its ...      0\n",
       "2                                                   ...      0\n",
       "3     Securities registered pursuant to Section 12(b...      0\n",
       "4                                Title of each class...      0\n",
       "...                                                 ...    ...\n",
       "4058  Pursuant to the requirements of the Securities...      0\n",
       "4059  Chief   Financial Officer and Executive Vice P...      0\n",
       "4060  /s/ Paul Stellato                             ...      0\n",
       "4061  /s/ Maria Teresa Hilado                       ...      0\n",
       "4062  /s/ Louis A. Shapiro                          ...      0\n",
       "\n",
       "[4063 rows x 2 columns]"
      ]
     },
     "execution_count": 145,
     "metadata": {},
     "output_type": "execute_result"
    }
   ],
   "source": [
    "df_test2"
   ]
  },
  {
   "cell_type": "code",
   "execution_count": null,
   "id": "b2e33a0a-db1a-45b1-a62b-832378a6c789",
   "metadata": {},
   "outputs": [],
   "source": []
  }
 ],
 "metadata": {
  "kernelspec": {
   "display_name": "Python 3 (ipykernel)",
   "language": "python",
   "name": "python3"
  },
  "language_info": {
   "codemirror_mode": {
    "name": "ipython",
    "version": 3
   },
   "file_extension": ".py",
   "mimetype": "text/x-python",
   "name": "python",
   "nbconvert_exporter": "python",
   "pygments_lexer": "ipython3",
   "version": "3.12.3"
  }
 },
 "nbformat": 4,
 "nbformat_minor": 5
}
