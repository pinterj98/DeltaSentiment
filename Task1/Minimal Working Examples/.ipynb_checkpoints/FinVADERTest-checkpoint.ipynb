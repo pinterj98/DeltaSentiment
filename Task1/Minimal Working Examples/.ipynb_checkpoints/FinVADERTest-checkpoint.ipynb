{
 "cells": [
  {
   "cell_type": "code",
   "execution_count": null,
   "metadata": {
    "colab": {
     "base_uri": "https://localhost:8080/"
    },
    "id": "YaD6fmIIV2M0",
    "outputId": "ff9271be-f148-487c-faae-0d596c97c7e1"
   },
   "outputs": [
    {
     "name": "stdout",
     "output_type": "stream",
     "text": [
      "Collecting finvader\n",
      "  Downloading finvader-1.0.4-py3-none-any.whl (45 kB)\n",
      "\u001b[2K     \u001b[90m━━━━━━━━━━━━━━━━━━━━━━━━━━━━━━━━━━━━━━━━\u001b[0m \u001b[32m45.2/45.2 kB\u001b[0m \u001b[31m683.7 kB/s\u001b[0m eta \u001b[36m0:00:00\u001b[0m\n",
      "\u001b[?25hCollecting nltk==3.6.2 (from finvader)\n",
      "  Downloading nltk-3.6.2-py3-none-any.whl (1.5 MB)\n",
      "\u001b[2K     \u001b[90m━━━━━━━━━━━━━━━━━━━━━━━━━━━━━━━━━━━━━━━━\u001b[0m \u001b[32m1.5/1.5 MB\u001b[0m \u001b[31m21.5 MB/s\u001b[0m eta \u001b[36m0:00:00\u001b[0m\n",
      "\u001b[?25hRequirement already satisfied: click in /usr/local/lib/python3.10/dist-packages (from nltk==3.6.2->finvader) (8.1.7)\n",
      "Requirement already satisfied: joblib in /usr/local/lib/python3.10/dist-packages (from nltk==3.6.2->finvader) (1.4.0)\n",
      "Requirement already satisfied: regex in /usr/local/lib/python3.10/dist-packages (from nltk==3.6.2->finvader) (2023.12.25)\n",
      "Requirement already satisfied: tqdm in /usr/local/lib/python3.10/dist-packages (from nltk==3.6.2->finvader) (4.66.2)\n",
      "Installing collected packages: nltk, finvader\n",
      "  Attempting uninstall: nltk\n",
      "    Found existing installation: nltk 3.8.1\n",
      "    Uninstalling nltk-3.8.1:\n",
      "      Successfully uninstalled nltk-3.8.1\n",
      "Successfully installed finvader-1.0.4 nltk-3.6.2\n"
     ]
    }
   ],
   "source": [
    "!pip install finvader"
   ]
  },
  {
   "cell_type": "code",
   "execution_count": null,
   "metadata": {
    "id": "78iviSr0WGu6"
   },
   "outputs": [],
   "source": [
    "from finvader import finvader\n",
    "\n",
    "text = \"\"\"Refinery revenues increased from $6.1 billion in 2021 to $10.7 billion in 2022, primarily driven by the increase in third-party refinery\n",
    "          sales and sales to the airline segment. The increase in third-party refinery sales resulted from higher pricing and production during 2022\n",
    "          compared to 2021. The refinery recorded an operating loss of $2 million in 2021 compared to operating income of $777 million in 2022\n",
    "          mainly due to the increased production and pricing, partially offset by higher Renewable Identification Numbers (\"RINs\") compliance\n",
    "          costs discussed below.\"\"\"\n",
    "\n",
    "scores = finvader(text,\n",
    "                  use_sentibignomics = True,\n",
    "                  use_henry = True,\n",
    "                  indicator = 'compound')"
   ]
  },
  {
   "cell_type": "code",
   "execution_count": null,
   "metadata": {
    "colab": {
     "base_uri": "https://localhost:8080/"
    },
    "id": "9Jb_Zty6WRsT",
    "outputId": "60c400ba-ccb4-4ae7-de8b-7de3d9af3968"
   },
   "outputs": [
    {
     "data": {
      "text/plain": [
       "0.8938"
      ]
     },
     "execution_count": 14,
     "metadata": {},
     "output_type": "execute_result"
    }
   ],
   "source": [
    "scores"
   ]
  }
 ],
 "metadata": {
  "colab": {
   "provenance": []
  },
  "kernelspec": {
   "display_name": "Python 3 (ipykernel)",
   "language": "python",
   "name": "python3"
  },
  "language_info": {
   "codemirror_mode": {
    "name": "ipython",
    "version": 3
   },
   "file_extension": ".py",
   "mimetype": "text/x-python",
   "name": "python",
   "nbconvert_exporter": "python",
   "pygments_lexer": "ipython3",
   "version": "3.11.5"
  }
 },
 "nbformat": 4,
 "nbformat_minor": 1
}
