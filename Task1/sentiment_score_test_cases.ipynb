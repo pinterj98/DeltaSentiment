{
  "nbformat": 4,
  "nbformat_minor": 0,
  "metadata": {
    "colab": {
      "provenance": [],
      "collapsed_sections": [
        "OTM98JwPMdjV",
        "hhvG4HH7PFPo",
        "wmY0HADTfHaS",
        "6i4X3-EZ9DC2"
      ]
    },
    "kernelspec": {
      "name": "python3",
      "display_name": "Python 3"
    },
    "language_info": {
      "name": "python"
    }
  },
  "cells": [
    {
      "cell_type": "markdown",
      "source": [
        "#Example texts"
      ],
      "metadata": {
        "id": "Ae8P6yS-h-y0"
      }
    },
    {
      "cell_type": "code",
      "execution_count": 4,
      "metadata": {
        "id": "pVHn2JFdFBhC"
      },
      "outputs": [],
      "source": [
        "text = \"\"\"In 2022, we recognized total revenues of $81.46 billion, respectively, representing an increase of $27.64 billion, compared to the prior year.\n",
        "We continue to ramp production, build new manufacturing capacity and expand our operations to enable increased deliveries and deployments of our products and further revenue growth.\"\"\"\n",
        "\n",
        "text_2 = \"\"\"Energy Generation and Storage Segment\n",
        "Energy generation and storage revenue includes sales and leasing of solar energy generation and energy storage products,\n",
        "financing of solar energy generation products, services related to such products and sales of solar energy systems incentives.\n",
        "2022 compared to 2021\n",
        "Energy generation and storage revenue increased $1.12 billion, or 40%, in the year ended December 31, 2022 as compared to the\n",
        "year ended December 31, 2021, primarily due to an increase in energy storage deployments of Megapack, Powerwall and higher\n",
        "average selling price of Megapack, as well as on solar cash and loan deployments driven by price increases in 2022.\"\"\"\n",
        "\n",
        "\n",
        "table = \"\"\"Production Location Vehicle Model(s) Production Status\n",
        "Fremont Factory Model S / Model X Active\n",
        "Model 3 / Model Y Active\n",
        "Gigafactory Shanghai Model 3 / Model Y Active\n",
        "Gigafactory Berlin-Brandenburg Model Y Active\n",
        "Gigafactory Texas Model Y Active\n",
        "Cybertruck Tooling\n",
        "Gigafactory Nevada Tesla Semi Pilot production\n",
        "TBD Tesla Roadster In development\n",
        "TBD Robotaxi & Others In development\"\"\"\n",
        "\n",
        "table_2 = \"\"\"Cost of Revenues and Gross Margin\n",
        "Year Ended December 31, 2022 vs. 2021 Change 2021 vs. 2020 Change\n",
        "(Dollars in millions) 2022 2021 2020 $ % $ %\n",
        "Cost of revenues\n",
        "Automotive sales $ 49,599 $ 32,415 $ 19,696 $ 17,184 53 % $ 12,719 65 %\n",
        "Automotive leasing 1,509 978 563 531 54 % 415 74 %\n",
        "Total automotive cost of revenues 51,108 33,393 20,259 17,715 53 % 13,134 65 %\n",
        "Services and other 5,880 3,906 2,671 1,974 51 % 1,235 46 %\n",
        "Total automotive & services and other\n",
        "segment cost of revenues 56,988 37,299 22,930 19,689 53 % 14,369 63 %\n",
        "Energy generation and storage segment 3,621 2,918 1,976 703 24 % 942 48 %\n",
        "Total cost of revenues $ 60,609 $ 40,217 $ 24,906 $ 20,392 51 % $ 15,311 61 %\n",
        "Gross profit total automotive $ 20,354 $ 13,839 $ 6,977\n",
        "Gross margin total automotive 28.5 % 29.3 % 25.6 %\n",
        "Gross profit total automotive & services and other\n",
        "segment $ 20,565 $ 13,735 $ 6,612\n",
        "Gross margin total automotive & services and other\n",
        "segment 26.5 % 26.9 % 22.4 %\n",
        "Gross profit energy generation and storage segment $ 288 $ (129 ) $ 18\n",
        "Gross margin energy generation and storage segment 7.4 % (4.6 )% 0.9 %\n",
        "Total gross profit $ 20,853 $ 13,606 $ 6,630\n",
        "Total gross margin 25.6 % 25.3 % 21.0 %\"\"\"\n",
        "\n",
        "\n",
        "neutral_text = \"\"\"Technopolis plans to develop in stages an area of no less than 100,000 square meters in order to host companies\n",
        "                  working in computer technologies and telecommunications , the statement said \"\"\"\n",
        "\n",
        "neutral_text_2 = \"\"\"In Sweden , Gallerix accumulated SEK denominated sales were down 1 % and EUR denominated sales were up 11 % . \"\"\"\n",
        "\n",
        "neutral_text_3 = \"\"\" When this investment is in place , Atria plans to expand into the Moscow market \"\"\"\n",
        "\n",
        "\n",
        "negative_text = \"\"\" You should carefully consider the risks described below together with the other information set forth in this report, which could\n",
        "materially affect our business, financial condition and future results. The risks described below are not the only risks facing our\n",
        "company. Risks and uncertainties not currently known to us or that we currently deem to be immaterial also may materially adversely\n",
        "affect our business, financial condition and operating results. \"\"\"\n",
        "\n",
        "\n",
        "very_negative_text = \"\"\" On the other hand , Finnish sawmills ' production has decreased even more. \"\"\"\n",
        "\n",
        "very_negative_text_2 = \"Additionally, the company will terminate a maximum nine salaried and senior salaried employees' employment contracts.\""
      ]
    },
    {
      "cell_type": "markdown",
      "source": [
        "# FinBERT"
      ],
      "metadata": {
        "id": "mdykaISMdb59"
      }
    },
    {
      "cell_type": "code",
      "source": [
        "!pip install -q transformers"
      ],
      "metadata": {
        "id": "bVkAheB6de6Z"
      },
      "execution_count": 5,
      "outputs": []
    },
    {
      "cell_type": "code",
      "source": [
        "from transformers import BertTokenizer, BertForSequenceClassification\n",
        "from transformers import pipeline\n",
        "\n",
        "finbert = BertForSequenceClassification.from_pretrained('yiyanghkust/finbert-tone',num_labels=3)\n",
        "tokenizer = BertTokenizer.from_pretrained('yiyanghkust/finbert-tone')\n",
        "\n",
        "nlp = pipeline(\"sentiment-analysis\", model=finbert, tokenizer=tokenizer)\n",
        "\n",
        "sentences = [\"there is a shortage of capital, and we need extra financing\",\n",
        "             \"growth is strong and we have plenty of liquidity\",\n",
        "             \"there are doubts about our finances\",\n",
        "             \"profits are flat\"]\n",
        "results = nlp(sentences)\n",
        "print(results)"
      ],
      "metadata": {
        "colab": {
          "base_uri": "https://localhost:8080/"
        },
        "id": "RMTLlW4sdfXE",
        "outputId": "2bbdc3f7-e574-4b02-d382-0f1d452c512f"
      },
      "execution_count": 6,
      "outputs": [
        {
          "output_type": "stream",
          "name": "stdout",
          "text": [
            "[{'label': 'Negative', 'score': 0.9966173768043518}, {'label': 'Positive', 'score': 1.0}, {'label': 'Negative', 'score': 0.9999710321426392}, {'label': 'Neutral', 'score': 0.9889441728591919}]\n"
          ]
        }
      ]
    },
    {
      "cell_type": "code",
      "source": [
        "# Using pipeline class to make predictions from models available in the Hub\n",
        "from transformers import pipeline\n",
        "\n",
        "pipe_Prosus = pipeline(\"text-classification\", model=\"ProsusAI/finbert\")       #LABEL_0: positive; LABEL_1: negative; LABEL_2: neutral\n",
        "pipe_yiy = pipeline(\"text-classification\", model=\"yiyanghkust/finbert-tone\")  #LABEL_0: neutral; LABEL_1: positive; LABEL_2: negative  ## Be careful!"
      ],
      "metadata": {
        "id": "6s9vt8ludfUq"
      },
      "execution_count": null,
      "outputs": []
    },
    {
      "cell_type": "markdown",
      "source": [
        "(positive) text with table"
      ],
      "metadata": {
        "id": "3gslMlgiFnED"
      }
    },
    {
      "cell_type": "code",
      "source": [
        "print( pipe_Prosus([text, text + table]) )\n",
        "print( pipe_yiy([text, text + table]) )"
      ],
      "metadata": {
        "colab": {
          "base_uri": "https://localhost:8080/"
        },
        "id": "m0kLZStBFlR3",
        "outputId": "fb174e22-2088-451f-d373-f2755e4e7ed7"
      },
      "execution_count": 8,
      "outputs": [
        {
          "output_type": "stream",
          "name": "stdout",
          "text": [
            "[{'label': 'positive', 'score': 0.9521226286888123}, {'label': 'positive', 'score': 0.8529262542724609}]\n",
            "[{'label': 'Positive', 'score': 0.9999998807907104}, {'label': 'Positive', 'score': 0.9999986886978149}]\n"
          ]
        }
      ]
    },
    {
      "cell_type": "code",
      "source": [
        "# reverse order: table and text\n",
        "print( pipe_Prosus([text, table + text]) )\n",
        "print( pipe_yiy([text, table + text]) )"
      ],
      "metadata": {
        "colab": {
          "base_uri": "https://localhost:8080/"
        },
        "id": "rFtOdYEv47P_",
        "outputId": "5fd16ffd-befd-4496-8a8b-0564748e690a"
      },
      "execution_count": 9,
      "outputs": [
        {
          "output_type": "stream",
          "name": "stdout",
          "text": [
            "[{'label': 'positive', 'score': 0.9521226286888123}, {'label': 'positive', 'score': 0.947961151599884}]\n",
            "[{'label': 'Positive', 'score': 0.9999998807907104}, {'label': 'Positive', 'score': 0.9999994039535522}]\n"
          ]
        }
      ]
    },
    {
      "cell_type": "code",
      "source": [
        "print( pipe_Prosus([text, text + table_2]) )\n",
        "print( pipe_yiy([text, text + table_2]) )"
      ],
      "metadata": {
        "colab": {
          "base_uri": "https://localhost:8080/"
        },
        "id": "A3xFVdUU4xeL",
        "outputId": "dfda1a19-f8e5-4cd3-bc65-a17184433fcf"
      },
      "execution_count": 10,
      "outputs": [
        {
          "output_type": "stream",
          "name": "stdout",
          "text": [
            "[{'label': 'positive', 'score': 0.9521226286888123}, {'label': 'neutral', 'score': 0.6441490650177002}]\n",
            "[{'label': 'Positive', 'score': 0.9999998807907104}, {'label': 'Positive', 'score': 0.896435558795929}]\n"
          ]
        }
      ]
    },
    {
      "cell_type": "markdown",
      "source": [
        "(positive) text_2 with table"
      ],
      "metadata": {
        "id": "LOgwngINFqJ-"
      }
    },
    {
      "cell_type": "code",
      "source": [
        "print( pipe_Prosus([text_2, text_2 + table]) )\n",
        "print( pipe_yiy([text_2, text_2 + table]) )"
      ],
      "metadata": {
        "colab": {
          "base_uri": "https://localhost:8080/"
        },
        "id": "zZFErsjRl6X9",
        "outputId": "9977c0e5-0b41-4a33-cfad-3b8574206885"
      },
      "execution_count": 11,
      "outputs": [
        {
          "output_type": "stream",
          "name": "stdout",
          "text": [
            "[{'label': 'positive', 'score': 0.9554265737533569}, {'label': 'positive', 'score': 0.9512686133384705}]\n",
            "[{'label': 'Positive', 'score': 0.9983287453651428}, {'label': 'Positive', 'score': 0.9982409477233887}]\n"
          ]
        }
      ]
    },
    {
      "cell_type": "code",
      "source": [
        "print( pipe_Prosus([text_2, text_2 + table_2]) )\n",
        "print( pipe_yiy([text_2, text_2 + table_2]) )"
      ],
      "metadata": {
        "colab": {
          "base_uri": "https://localhost:8080/"
        },
        "id": "-Vxha8eG5TDg",
        "outputId": "d7a94b2c-9156-4be1-f711-d085f47b131b"
      },
      "execution_count": 12,
      "outputs": [
        {
          "output_type": "stream",
          "name": "stdout",
          "text": [
            "[{'label': 'positive', 'score': 0.9554265737533569}, {'label': 'positive', 'score': 0.592644453048706}]\n",
            "[{'label': 'Positive', 'score': 0.9983287453651428}, {'label': 'Neutral', 'score': 0.934296190738678}]\n"
          ]
        }
      ]
    },
    {
      "cell_type": "markdown",
      "source": [
        "Conclusion: appending a **table** (that is copy pasted) could influence the results significantly"
      ],
      "metadata": {
        "id": "3bKPEh2II1AQ"
      }
    },
    {
      "cell_type": "markdown",
      "source": [
        "Also note that *yiyanghkust/finbert-tone* was trained on Corporate Reports 10-K & 10-Q"
      ],
      "metadata": {
        "id": "3InDV05ZgGEF"
      }
    },
    {
      "cell_type": "markdown",
      "source": [
        "# FinVADER"
      ],
      "metadata": {
        "id": "zbNz8Zz6HqD9"
      }
    },
    {
      "cell_type": "code",
      "source": [
        "!pip install finvader"
      ],
      "metadata": {
        "id": "F0emTT2aHo6T"
      },
      "execution_count": null,
      "outputs": []
    },
    {
      "cell_type": "code",
      "source": [
        "from finvader import finvader\n",
        "\n",
        "print( finvader(text, use_sentibignomics = True, use_henry = True, indicator = 'compound') )\n",
        "\n",
        "print( finvader(text + table, use_sentibignomics = True, use_henry = True, indicator = 'compound') )\n",
        "\n",
        "print( finvader(text + table_2, use_sentibignomics = True, use_henry = True, indicator = 'compound') )"
      ],
      "metadata": {
        "colab": {
          "base_uri": "https://localhost:8080/"
        },
        "id": "P3IEkmRJHfCi",
        "outputId": "e5bdee8a-cf89-4d4e-b4aa-fabc138eb599"
      },
      "execution_count": 19,
      "outputs": [
        {
          "output_type": "stream",
          "name": "stdout",
          "text": [
            "0.8911\n",
            "0.8573\n",
            "0.8649\n"
          ]
        }
      ]
    },
    {
      "cell_type": "code",
      "source": [
        "print( finvader(text_2, use_sentibignomics = True, use_henry = True, indicator = 'compound') )\n",
        "\n",
        "print( finvader(text_2 + table, use_sentibignomics = True, use_henry = True, indicator = 'compound') )\n",
        "\n",
        "print( finvader(text_2 + table_2, use_sentibignomics = True, use_henry = True, indicator = 'compound') )"
      ],
      "metadata": {
        "colab": {
          "base_uri": "https://localhost:8080/"
        },
        "id": "2dQHd09JIkFu",
        "outputId": "e0a0ba22-a508-4b82-c1a2-18a4aa6c82bf"
      },
      "execution_count": 15,
      "outputs": [
        {
          "output_type": "stream",
          "name": "stdout",
          "text": [
            "0.9171\n",
            "0.9225\n",
            "0.9257\n"
          ]
        }
      ]
    },
    {
      "cell_type": "markdown",
      "source": [
        "Conclusion: FinVADER is less sensitive to **tables**\n",
        "\n"
      ],
      "metadata": {
        "id": "X8J9IChrJCal"
      }
    },
    {
      "cell_type": "markdown",
      "source": [
        "#Long texts?"
      ],
      "metadata": {
        "id": "urOsYpMaYmcQ"
      }
    },
    {
      "cell_type": "code",
      "source": [
        "long_text = \"\"\"ITEM 1. BUSINESS\n",
        "Overview\n",
        "We design, develop, manufacture, sell and lease high-performance fully electric vehicles and energy generation and storage\n",
        "systems, and offer services related to our products. We generally sell our products directly to customers, and continue to grow our\n",
        "customer-facing infrastructure through a global network of vehicle service centers, Mobile Service, body shops, Supercharger stations\n",
        "and Destination Chargers to accelerate the widespread adoption of our products. We emphasize performance, attractive styling and the\n",
        "safety of our users and workforce in the design and manufacture of our products and are continuing to develop full self-driving\n",
        "technology for improved safety. We also strive to lower the cost of ownership for our customers through continuous efforts to reduce\n",
        "manufacturing costs and by offering financial and other services tailored to our products.\n",
        "Our mission is to accelerate the world’s transition to sustainable energy. We believe that this mission, along with our engineering\n",
        "expertise, vertically integrated business model and focus on user experience differentiate us from other companies.\n",
        "Segment Information\n",
        "We operate as two reportable segments: (i) automotive and (ii) energy generation and storage.\n",
        "The automotive segment includes the design, development, manufacturing, sales and leasing of high-performance fully electric\n",
        "vehicles as well as sales of automotive regulatory credits. Additionally, the automotive segment also includes services and other, which\n",
        "includes non-warranty after-sales vehicle services and parts, sales of used vehicles, retail merchandise, paid Supercharging and vehicle\n",
        "insurance revenue. The energy generation and storage segment includes the design, manufacture, installation, sales and leasing of solar\n",
        "energy generation and energy storage products and related services and sales of solar energy systems incentives.\n",
        "Our Products and Services\n",
        "Automotive\n",
        "We currently manufacture four different consumer vehicles – the Model 3, Y, S and X. Model 3 is a four-door mid-size sedan that\n",
        "we designed for manufacturability with a base price for mass-market appeal. Model Y is a compact sport utility vehicle (“SUV”) built\n",
        "on the Model 3 platform with seating for up to seven adults. Model S is a four-door full-size sedan and Model X is a mid-size SUV\n",
        "with seating for up to seven adults. Model S and Model X feature the highest performance characteristics and longest ranges that we\n",
        "offer in a sedan and SUV, respectively.\n",
        "In December 2022, we began early production and deliveries of the Tesla Semi, our first commercial electric vehicle. We have\n",
        "also announced several planned electric vehicles to address additional vehicle markets, including specialized consumer electric vehicles\n",
        "in Cybertruck and the new Tesla Roadster. We plan to continue leveraging developments in our proprietary Full Self-Driving (“FSD”),\n",
        "battery cell and other technologies.\n",
        "Energy Generation and Storage\n",
        "Energy Storage Products\n",
        "Powerwall and Megapack are our lithium-ion battery energy storage products. Powerwall is designed to store energy at a home or\n",
        "small commercial facility. Megapack is an energy storage solution for commercial, industrial, utility and energy generation customers,\n",
        "multiple of which may be grouped together to form larger installations of gigawatt hours (“GWh”) or greater capacity.\n",
        "We also continue to develop software capabilities for remotely controlling and dispatching our energy storage systems across a\n",
        "wide range of markets and applications, including through our real-time energy control and optimization platforms.\n",
        "Solar Energy Offerings\n",
        "We sell retrofit solar energy systems to customers and channel partners and also make them available through power purchase\n",
        "agreement (“PPA”) arrangements. We purchase most of the components for our retrofit solar energy systems from multiple sources to\n",
        "ensure competitive pricing and adequate supply. We also design and manufacture certain components for our solar energy products.\n",
        "We sell our Solar Roof, which combines premium glass roof tiles with energy generation, directly to customers, as well as\n",
        "through channel customers. We continue to improve our installation capability and efficiency, including through collaboration with real\n",
        "estate developers and builders on new homes.\n",
        "4\n",
        "\n",
        "Technology\n",
        "Automotive\n",
        "Battery and Powertrain\n",
        "Our core vehicle technology competencies include powertrain engineering and manufacturing and our ability to design vehicles\n",
        "that utilize the unique advantages of an electric powertrain. We have designed our proprietary powertrain systems to be adaptable,\n",
        "efficient, reliable and cost-effective while withstanding the rigors of an automotive environment. We offer dual motor powertrain\n",
        "vehicles, which use two electric motors to maximize traction and performance in an all-wheel drive configuration, as well as vehicle\n",
        "powertrain technology featuring three electric motors for further increased performance in certain versions of Model S and Model X\n",
        "and the Tesla Semi.\n",
        "We maintain extensive testing and R&D capabilities for battery cells, packs and systems, and have built an expansive body of\n",
        "knowledge on lithium-ion cell chemistry types and performance characteristics. In order to enable a greater supply of cells for our\n",
        "products with higher energy density at lower costs, we have developed a new proprietary lithium-ion battery cell and improved\n",
        "manufacturing processes.\n",
        "Vehicle Control and Infotainment Software\n",
        "The performance and safety systems of our vehicles and their battery packs utilize sophisticated control software. Control\n",
        "systems in our vehicles optimize performance, customize vehicle behavior, manage charging and control all infotainment functions. We\n",
        "develop almost all of this software, including most of the user interfaces, internally and update our vehicles’ software regularly through\n",
        "over-the-air updates.\n",
        "Self-Driving Development and Artificial Intelligence\n",
        "We have expertise in developing technologies, systems and software to enable self-driving vehicles using primarily vision-based\n",
        "technologies. Our FSD Computer runs our neural networks in our vehicles, and we are also developing additional computer hardware to\n",
        "better enable the massive amounts of field data captured by our vehicles to continually train and improve these neural networks for realworld performance.\n",
        "Currently, we offer in our vehicles certain advanced driver assist systems under our Autopilot and FSD options. Although at\n",
        "present the driver is ultimately responsible for controlling the vehicle, our systems provide safety and convenience functionality that\n",
        "relieves drivers of the most tedious and potentially dangerous aspects of road travel much like the system that airplane pilots use, when\n",
        "conditions permit. As with other vehicle systems, we improve these functions in our vehicles over time through over-the-air updates.\n",
        "We intend to establish in the future an autonomous Tesla ride-hailing network, which we expect would also allow us to access a\n",
        "new customer base even as modes of transportation evolve.\n",
        "We are also applying our artificial intelligence learnings from self-driving technology to the field of robotics. For example, in\n",
        "2022 we previewed Optimus, a robotic humanoid which is controlled by the same AI system.\n",
        "Energy Generation and Storage\n",
        "Energy Storage Products\n",
        "We leverage many of the component-level technologies from our vehicles in our energy storage products. By taking a modular\n",
        "approach to the design of battery systems, we can optimize manufacturing capacity of our energy storage products. Additionally, our\n",
        "expertise in power electronics enables our battery systems to interconnect with electricity grids while providing fast-acting systems for\n",
        "power injection and absorption. We have also developed software to remotely control and dispatch our energy storage systems.\n",
        "Solar Energy Systems\n",
        "We have engineered Solar Roof over numerous iterations to combine aesthetic appeal and durability with power generation. The\n",
        "efficiency of our solar energy products is aided by our own solar inverter, which incorporates our power electronics technologies. We\n",
        "designed both products to integrate with Powerwall.\"\"\""
      ],
      "metadata": {
        "id": "H28EtIcnYqjd"
      },
      "execution_count": 16,
      "outputs": []
    },
    {
      "cell_type": "code",
      "source": [
        "pipe_yiy(long_text)"
      ],
      "metadata": {
        "colab": {
          "base_uri": "https://localhost:8080/",
          "height": 287
        },
        "id": "EI2DYY4UYt8u",
        "outputId": "7a609156-e3b0-4042-8c9b-3460acad440c"
      },
      "execution_count": 20,
      "outputs": [
        {
          "output_type": "error",
          "ename": "RuntimeError",
          "evalue": "The size of tensor a (1442) must match the size of tensor b (512) at non-singleton dimension 1",
          "traceback": [
            "\u001b[0;31m---------------------------------------------------------------------------\u001b[0m",
            "\u001b[0;31mRuntimeError\u001b[0m                              Traceback (most recent call last)",
            "\u001b[0;32m<ipython-input-20-6a8f1d682193>\u001b[0m in \u001b[0;36m<cell line: 1>\u001b[0;34m()\u001b[0m\n\u001b[0;32m----> 1\u001b[0;31m \u001b[0mpipe_yiy\u001b[0m\u001b[0;34m(\u001b[0m\u001b[0mlong_text\u001b[0m\u001b[0;34m)\u001b[0m\u001b[0;34m\u001b[0m\u001b[0;34m\u001b[0m\u001b[0m\n\u001b[0m",
            "\u001b[0;32m/usr/local/lib/python3.10/dist-packages/transformers/pipelines/text_classification.py\u001b[0m in \u001b[0;36m__call__\u001b[0;34m(self, inputs, **kwargs)\u001b[0m\n\u001b[1;32m    154\u001b[0m         \"\"\"\n\u001b[1;32m    155\u001b[0m         \u001b[0minputs\u001b[0m \u001b[0;34m=\u001b[0m \u001b[0;34m(\u001b[0m\u001b[0minputs\u001b[0m\u001b[0;34m,\u001b[0m\u001b[0;34m)\u001b[0m\u001b[0;34m\u001b[0m\u001b[0;34m\u001b[0m\u001b[0m\n\u001b[0;32m--> 156\u001b[0;31m         \u001b[0mresult\u001b[0m \u001b[0;34m=\u001b[0m \u001b[0msuper\u001b[0m\u001b[0;34m(\u001b[0m\u001b[0;34m)\u001b[0m\u001b[0;34m.\u001b[0m\u001b[0m__call__\u001b[0m\u001b[0;34m(\u001b[0m\u001b[0;34m*\u001b[0m\u001b[0minputs\u001b[0m\u001b[0;34m,\u001b[0m \u001b[0;34m**\u001b[0m\u001b[0mkwargs\u001b[0m\u001b[0;34m)\u001b[0m\u001b[0;34m\u001b[0m\u001b[0;34m\u001b[0m\u001b[0m\n\u001b[0m\u001b[1;32m    157\u001b[0m         \u001b[0;31m# TODO try and retrieve it in a nicer way from _sanitize_parameters.\u001b[0m\u001b[0;34m\u001b[0m\u001b[0;34m\u001b[0m\u001b[0m\n\u001b[1;32m    158\u001b[0m         \u001b[0m_legacy\u001b[0m \u001b[0;34m=\u001b[0m \u001b[0;34m\"top_k\"\u001b[0m \u001b[0;32mnot\u001b[0m \u001b[0;32min\u001b[0m \u001b[0mkwargs\u001b[0m\u001b[0;34m\u001b[0m\u001b[0;34m\u001b[0m\u001b[0m\n",
            "\u001b[0;32m/usr/local/lib/python3.10/dist-packages/transformers/pipelines/base.py\u001b[0m in \u001b[0;36m__call__\u001b[0;34m(self, inputs, num_workers, batch_size, *args, **kwargs)\u001b[0m\n\u001b[1;32m   1241\u001b[0m             )\n\u001b[1;32m   1242\u001b[0m         \u001b[0;32melse\u001b[0m\u001b[0;34m:\u001b[0m\u001b[0;34m\u001b[0m\u001b[0;34m\u001b[0m\u001b[0m\n\u001b[0;32m-> 1243\u001b[0;31m             \u001b[0;32mreturn\u001b[0m \u001b[0mself\u001b[0m\u001b[0;34m.\u001b[0m\u001b[0mrun_single\u001b[0m\u001b[0;34m(\u001b[0m\u001b[0minputs\u001b[0m\u001b[0;34m,\u001b[0m \u001b[0mpreprocess_params\u001b[0m\u001b[0;34m,\u001b[0m \u001b[0mforward_params\u001b[0m\u001b[0;34m,\u001b[0m \u001b[0mpostprocess_params\u001b[0m\u001b[0;34m)\u001b[0m\u001b[0;34m\u001b[0m\u001b[0;34m\u001b[0m\u001b[0m\n\u001b[0m\u001b[1;32m   1244\u001b[0m \u001b[0;34m\u001b[0m\u001b[0m\n\u001b[1;32m   1245\u001b[0m     \u001b[0;32mdef\u001b[0m \u001b[0mrun_multi\u001b[0m\u001b[0;34m(\u001b[0m\u001b[0mself\u001b[0m\u001b[0;34m,\u001b[0m \u001b[0minputs\u001b[0m\u001b[0;34m,\u001b[0m \u001b[0mpreprocess_params\u001b[0m\u001b[0;34m,\u001b[0m \u001b[0mforward_params\u001b[0m\u001b[0;34m,\u001b[0m \u001b[0mpostprocess_params\u001b[0m\u001b[0;34m)\u001b[0m\u001b[0;34m:\u001b[0m\u001b[0;34m\u001b[0m\u001b[0;34m\u001b[0m\u001b[0m\n",
            "\u001b[0;32m/usr/local/lib/python3.10/dist-packages/transformers/pipelines/base.py\u001b[0m in \u001b[0;36mrun_single\u001b[0;34m(self, inputs, preprocess_params, forward_params, postprocess_params)\u001b[0m\n\u001b[1;32m   1248\u001b[0m     \u001b[0;32mdef\u001b[0m \u001b[0mrun_single\u001b[0m\u001b[0;34m(\u001b[0m\u001b[0mself\u001b[0m\u001b[0;34m,\u001b[0m \u001b[0minputs\u001b[0m\u001b[0;34m,\u001b[0m \u001b[0mpreprocess_params\u001b[0m\u001b[0;34m,\u001b[0m \u001b[0mforward_params\u001b[0m\u001b[0;34m,\u001b[0m \u001b[0mpostprocess_params\u001b[0m\u001b[0;34m)\u001b[0m\u001b[0;34m:\u001b[0m\u001b[0;34m\u001b[0m\u001b[0;34m\u001b[0m\u001b[0m\n\u001b[1;32m   1249\u001b[0m         \u001b[0mmodel_inputs\u001b[0m \u001b[0;34m=\u001b[0m \u001b[0mself\u001b[0m\u001b[0;34m.\u001b[0m\u001b[0mpreprocess\u001b[0m\u001b[0;34m(\u001b[0m\u001b[0minputs\u001b[0m\u001b[0;34m,\u001b[0m \u001b[0;34m**\u001b[0m\u001b[0mpreprocess_params\u001b[0m\u001b[0;34m)\u001b[0m\u001b[0;34m\u001b[0m\u001b[0;34m\u001b[0m\u001b[0m\n\u001b[0;32m-> 1250\u001b[0;31m         \u001b[0mmodel_outputs\u001b[0m \u001b[0;34m=\u001b[0m \u001b[0mself\u001b[0m\u001b[0;34m.\u001b[0m\u001b[0mforward\u001b[0m\u001b[0;34m(\u001b[0m\u001b[0mmodel_inputs\u001b[0m\u001b[0;34m,\u001b[0m \u001b[0;34m**\u001b[0m\u001b[0mforward_params\u001b[0m\u001b[0;34m)\u001b[0m\u001b[0;34m\u001b[0m\u001b[0;34m\u001b[0m\u001b[0m\n\u001b[0m\u001b[1;32m   1251\u001b[0m         \u001b[0moutputs\u001b[0m \u001b[0;34m=\u001b[0m \u001b[0mself\u001b[0m\u001b[0;34m.\u001b[0m\u001b[0mpostprocess\u001b[0m\u001b[0;34m(\u001b[0m\u001b[0mmodel_outputs\u001b[0m\u001b[0;34m,\u001b[0m \u001b[0;34m**\u001b[0m\u001b[0mpostprocess_params\u001b[0m\u001b[0;34m)\u001b[0m\u001b[0;34m\u001b[0m\u001b[0;34m\u001b[0m\u001b[0m\n\u001b[1;32m   1252\u001b[0m         \u001b[0;32mreturn\u001b[0m \u001b[0moutputs\u001b[0m\u001b[0;34m\u001b[0m\u001b[0;34m\u001b[0m\u001b[0m\n",
            "\u001b[0;32m/usr/local/lib/python3.10/dist-packages/transformers/pipelines/base.py\u001b[0m in \u001b[0;36mforward\u001b[0;34m(self, model_inputs, **forward_params)\u001b[0m\n\u001b[1;32m   1148\u001b[0m                 \u001b[0;32mwith\u001b[0m \u001b[0minference_context\u001b[0m\u001b[0;34m(\u001b[0m\u001b[0;34m)\u001b[0m\u001b[0;34m:\u001b[0m\u001b[0;34m\u001b[0m\u001b[0;34m\u001b[0m\u001b[0m\n\u001b[1;32m   1149\u001b[0m                     \u001b[0mmodel_inputs\u001b[0m \u001b[0;34m=\u001b[0m \u001b[0mself\u001b[0m\u001b[0;34m.\u001b[0m\u001b[0m_ensure_tensor_on_device\u001b[0m\u001b[0;34m(\u001b[0m\u001b[0mmodel_inputs\u001b[0m\u001b[0;34m,\u001b[0m \u001b[0mdevice\u001b[0m\u001b[0;34m=\u001b[0m\u001b[0mself\u001b[0m\u001b[0;34m.\u001b[0m\u001b[0mdevice\u001b[0m\u001b[0;34m)\u001b[0m\u001b[0;34m\u001b[0m\u001b[0;34m\u001b[0m\u001b[0m\n\u001b[0;32m-> 1150\u001b[0;31m                     \u001b[0mmodel_outputs\u001b[0m \u001b[0;34m=\u001b[0m \u001b[0mself\u001b[0m\u001b[0;34m.\u001b[0m\u001b[0m_forward\u001b[0m\u001b[0;34m(\u001b[0m\u001b[0mmodel_inputs\u001b[0m\u001b[0;34m,\u001b[0m \u001b[0;34m**\u001b[0m\u001b[0mforward_params\u001b[0m\u001b[0;34m)\u001b[0m\u001b[0;34m\u001b[0m\u001b[0;34m\u001b[0m\u001b[0m\n\u001b[0m\u001b[1;32m   1151\u001b[0m                     \u001b[0mmodel_outputs\u001b[0m \u001b[0;34m=\u001b[0m \u001b[0mself\u001b[0m\u001b[0;34m.\u001b[0m\u001b[0m_ensure_tensor_on_device\u001b[0m\u001b[0;34m(\u001b[0m\u001b[0mmodel_outputs\u001b[0m\u001b[0;34m,\u001b[0m \u001b[0mdevice\u001b[0m\u001b[0;34m=\u001b[0m\u001b[0mtorch\u001b[0m\u001b[0;34m.\u001b[0m\u001b[0mdevice\u001b[0m\u001b[0;34m(\u001b[0m\u001b[0;34m\"cpu\"\u001b[0m\u001b[0;34m)\u001b[0m\u001b[0;34m)\u001b[0m\u001b[0;34m\u001b[0m\u001b[0;34m\u001b[0m\u001b[0m\n\u001b[1;32m   1152\u001b[0m             \u001b[0;32melse\u001b[0m\u001b[0;34m:\u001b[0m\u001b[0;34m\u001b[0m\u001b[0;34m\u001b[0m\u001b[0m\n",
            "\u001b[0;32m/usr/local/lib/python3.10/dist-packages/transformers/pipelines/text_classification.py\u001b[0m in \u001b[0;36m_forward\u001b[0;34m(self, model_inputs)\u001b[0m\n\u001b[1;32m    185\u001b[0m         \u001b[0;32mif\u001b[0m \u001b[0;34m\"use_cache\"\u001b[0m \u001b[0;32min\u001b[0m \u001b[0minspect\u001b[0m\u001b[0;34m.\u001b[0m\u001b[0msignature\u001b[0m\u001b[0;34m(\u001b[0m\u001b[0mmodel_forward\u001b[0m\u001b[0;34m)\u001b[0m\u001b[0;34m.\u001b[0m\u001b[0mparameters\u001b[0m\u001b[0;34m.\u001b[0m\u001b[0mkeys\u001b[0m\u001b[0;34m(\u001b[0m\u001b[0;34m)\u001b[0m\u001b[0;34m:\u001b[0m\u001b[0;34m\u001b[0m\u001b[0;34m\u001b[0m\u001b[0m\n\u001b[1;32m    186\u001b[0m             \u001b[0mmodel_inputs\u001b[0m\u001b[0;34m[\u001b[0m\u001b[0;34m\"use_cache\"\u001b[0m\u001b[0;34m]\u001b[0m \u001b[0;34m=\u001b[0m \u001b[0;32mFalse\u001b[0m\u001b[0;34m\u001b[0m\u001b[0;34m\u001b[0m\u001b[0m\n\u001b[0;32m--> 187\u001b[0;31m         \u001b[0;32mreturn\u001b[0m \u001b[0mself\u001b[0m\u001b[0;34m.\u001b[0m\u001b[0mmodel\u001b[0m\u001b[0;34m(\u001b[0m\u001b[0;34m**\u001b[0m\u001b[0mmodel_inputs\u001b[0m\u001b[0;34m)\u001b[0m\u001b[0;34m\u001b[0m\u001b[0;34m\u001b[0m\u001b[0m\n\u001b[0m\u001b[1;32m    188\u001b[0m \u001b[0;34m\u001b[0m\u001b[0m\n\u001b[1;32m    189\u001b[0m     \u001b[0;32mdef\u001b[0m \u001b[0mpostprocess\u001b[0m\u001b[0;34m(\u001b[0m\u001b[0mself\u001b[0m\u001b[0;34m,\u001b[0m \u001b[0mmodel_outputs\u001b[0m\u001b[0;34m,\u001b[0m \u001b[0mfunction_to_apply\u001b[0m\u001b[0;34m=\u001b[0m\u001b[0;32mNone\u001b[0m\u001b[0;34m,\u001b[0m \u001b[0mtop_k\u001b[0m\u001b[0;34m=\u001b[0m\u001b[0;36m1\u001b[0m\u001b[0;34m,\u001b[0m \u001b[0m_legacy\u001b[0m\u001b[0;34m=\u001b[0m\u001b[0;32mTrue\u001b[0m\u001b[0;34m)\u001b[0m\u001b[0;34m:\u001b[0m\u001b[0;34m\u001b[0m\u001b[0;34m\u001b[0m\u001b[0m\n",
            "\u001b[0;32m/usr/local/lib/python3.10/dist-packages/torch/nn/modules/module.py\u001b[0m in \u001b[0;36m_wrapped_call_impl\u001b[0;34m(self, *args, **kwargs)\u001b[0m\n\u001b[1;32m   1530\u001b[0m             \u001b[0;32mreturn\u001b[0m \u001b[0mself\u001b[0m\u001b[0;34m.\u001b[0m\u001b[0m_compiled_call_impl\u001b[0m\u001b[0;34m(\u001b[0m\u001b[0;34m*\u001b[0m\u001b[0margs\u001b[0m\u001b[0;34m,\u001b[0m \u001b[0;34m**\u001b[0m\u001b[0mkwargs\u001b[0m\u001b[0;34m)\u001b[0m  \u001b[0;31m# type: ignore[misc]\u001b[0m\u001b[0;34m\u001b[0m\u001b[0;34m\u001b[0m\u001b[0m\n\u001b[1;32m   1531\u001b[0m         \u001b[0;32melse\u001b[0m\u001b[0;34m:\u001b[0m\u001b[0;34m\u001b[0m\u001b[0;34m\u001b[0m\u001b[0m\n\u001b[0;32m-> 1532\u001b[0;31m             \u001b[0;32mreturn\u001b[0m \u001b[0mself\u001b[0m\u001b[0;34m.\u001b[0m\u001b[0m_call_impl\u001b[0m\u001b[0;34m(\u001b[0m\u001b[0;34m*\u001b[0m\u001b[0margs\u001b[0m\u001b[0;34m,\u001b[0m \u001b[0;34m**\u001b[0m\u001b[0mkwargs\u001b[0m\u001b[0;34m)\u001b[0m\u001b[0;34m\u001b[0m\u001b[0;34m\u001b[0m\u001b[0m\n\u001b[0m\u001b[1;32m   1533\u001b[0m \u001b[0;34m\u001b[0m\u001b[0m\n\u001b[1;32m   1534\u001b[0m     \u001b[0;32mdef\u001b[0m \u001b[0m_call_impl\u001b[0m\u001b[0;34m(\u001b[0m\u001b[0mself\u001b[0m\u001b[0;34m,\u001b[0m \u001b[0;34m*\u001b[0m\u001b[0margs\u001b[0m\u001b[0;34m,\u001b[0m \u001b[0;34m**\u001b[0m\u001b[0mkwargs\u001b[0m\u001b[0;34m)\u001b[0m\u001b[0;34m:\u001b[0m\u001b[0;34m\u001b[0m\u001b[0;34m\u001b[0m\u001b[0m\n",
            "\u001b[0;32m/usr/local/lib/python3.10/dist-packages/torch/nn/modules/module.py\u001b[0m in \u001b[0;36m_call_impl\u001b[0;34m(self, *args, **kwargs)\u001b[0m\n\u001b[1;32m   1539\u001b[0m                 \u001b[0;32mor\u001b[0m \u001b[0m_global_backward_pre_hooks\u001b[0m \u001b[0;32mor\u001b[0m \u001b[0m_global_backward_hooks\u001b[0m\u001b[0;34m\u001b[0m\u001b[0;34m\u001b[0m\u001b[0m\n\u001b[1;32m   1540\u001b[0m                 or _global_forward_hooks or _global_forward_pre_hooks):\n\u001b[0;32m-> 1541\u001b[0;31m             \u001b[0;32mreturn\u001b[0m \u001b[0mforward_call\u001b[0m\u001b[0;34m(\u001b[0m\u001b[0;34m*\u001b[0m\u001b[0margs\u001b[0m\u001b[0;34m,\u001b[0m \u001b[0;34m**\u001b[0m\u001b[0mkwargs\u001b[0m\u001b[0;34m)\u001b[0m\u001b[0;34m\u001b[0m\u001b[0;34m\u001b[0m\u001b[0m\n\u001b[0m\u001b[1;32m   1542\u001b[0m \u001b[0;34m\u001b[0m\u001b[0m\n\u001b[1;32m   1543\u001b[0m         \u001b[0;32mtry\u001b[0m\u001b[0;34m:\u001b[0m\u001b[0;34m\u001b[0m\u001b[0;34m\u001b[0m\u001b[0m\n",
            "\u001b[0;32m/usr/local/lib/python3.10/dist-packages/transformers/models/bert/modeling_bert.py\u001b[0m in \u001b[0;36mforward\u001b[0;34m(self, input_ids, attention_mask, token_type_ids, position_ids, head_mask, inputs_embeds, labels, output_attentions, output_hidden_states, return_dict)\u001b[0m\n\u001b[1;32m   1689\u001b[0m         \u001b[0mreturn_dict\u001b[0m \u001b[0;34m=\u001b[0m \u001b[0mreturn_dict\u001b[0m \u001b[0;32mif\u001b[0m \u001b[0mreturn_dict\u001b[0m \u001b[0;32mis\u001b[0m \u001b[0;32mnot\u001b[0m \u001b[0;32mNone\u001b[0m \u001b[0;32melse\u001b[0m \u001b[0mself\u001b[0m\u001b[0;34m.\u001b[0m\u001b[0mconfig\u001b[0m\u001b[0;34m.\u001b[0m\u001b[0muse_return_dict\u001b[0m\u001b[0;34m\u001b[0m\u001b[0;34m\u001b[0m\u001b[0m\n\u001b[1;32m   1690\u001b[0m \u001b[0;34m\u001b[0m\u001b[0m\n\u001b[0;32m-> 1691\u001b[0;31m         outputs = self.bert(\n\u001b[0m\u001b[1;32m   1692\u001b[0m             \u001b[0minput_ids\u001b[0m\u001b[0;34m,\u001b[0m\u001b[0;34m\u001b[0m\u001b[0;34m\u001b[0m\u001b[0m\n\u001b[1;32m   1693\u001b[0m             \u001b[0mattention_mask\u001b[0m\u001b[0;34m=\u001b[0m\u001b[0mattention_mask\u001b[0m\u001b[0;34m,\u001b[0m\u001b[0;34m\u001b[0m\u001b[0;34m\u001b[0m\u001b[0m\n",
            "\u001b[0;32m/usr/local/lib/python3.10/dist-packages/torch/nn/modules/module.py\u001b[0m in \u001b[0;36m_wrapped_call_impl\u001b[0;34m(self, *args, **kwargs)\u001b[0m\n\u001b[1;32m   1530\u001b[0m             \u001b[0;32mreturn\u001b[0m \u001b[0mself\u001b[0m\u001b[0;34m.\u001b[0m\u001b[0m_compiled_call_impl\u001b[0m\u001b[0;34m(\u001b[0m\u001b[0;34m*\u001b[0m\u001b[0margs\u001b[0m\u001b[0;34m,\u001b[0m \u001b[0;34m**\u001b[0m\u001b[0mkwargs\u001b[0m\u001b[0;34m)\u001b[0m  \u001b[0;31m# type: ignore[misc]\u001b[0m\u001b[0;34m\u001b[0m\u001b[0;34m\u001b[0m\u001b[0m\n\u001b[1;32m   1531\u001b[0m         \u001b[0;32melse\u001b[0m\u001b[0;34m:\u001b[0m\u001b[0;34m\u001b[0m\u001b[0;34m\u001b[0m\u001b[0m\n\u001b[0;32m-> 1532\u001b[0;31m             \u001b[0;32mreturn\u001b[0m \u001b[0mself\u001b[0m\u001b[0;34m.\u001b[0m\u001b[0m_call_impl\u001b[0m\u001b[0;34m(\u001b[0m\u001b[0;34m*\u001b[0m\u001b[0margs\u001b[0m\u001b[0;34m,\u001b[0m \u001b[0;34m**\u001b[0m\u001b[0mkwargs\u001b[0m\u001b[0;34m)\u001b[0m\u001b[0;34m\u001b[0m\u001b[0;34m\u001b[0m\u001b[0m\n\u001b[0m\u001b[1;32m   1533\u001b[0m \u001b[0;34m\u001b[0m\u001b[0m\n\u001b[1;32m   1534\u001b[0m     \u001b[0;32mdef\u001b[0m \u001b[0m_call_impl\u001b[0m\u001b[0;34m(\u001b[0m\u001b[0mself\u001b[0m\u001b[0;34m,\u001b[0m \u001b[0;34m*\u001b[0m\u001b[0margs\u001b[0m\u001b[0;34m,\u001b[0m \u001b[0;34m**\u001b[0m\u001b[0mkwargs\u001b[0m\u001b[0;34m)\u001b[0m\u001b[0;34m:\u001b[0m\u001b[0;34m\u001b[0m\u001b[0;34m\u001b[0m\u001b[0m\n",
            "\u001b[0;32m/usr/local/lib/python3.10/dist-packages/torch/nn/modules/module.py\u001b[0m in \u001b[0;36m_call_impl\u001b[0;34m(self, *args, **kwargs)\u001b[0m\n\u001b[1;32m   1539\u001b[0m                 \u001b[0;32mor\u001b[0m \u001b[0m_global_backward_pre_hooks\u001b[0m \u001b[0;32mor\u001b[0m \u001b[0m_global_backward_hooks\u001b[0m\u001b[0;34m\u001b[0m\u001b[0;34m\u001b[0m\u001b[0m\n\u001b[1;32m   1540\u001b[0m                 or _global_forward_hooks or _global_forward_pre_hooks):\n\u001b[0;32m-> 1541\u001b[0;31m             \u001b[0;32mreturn\u001b[0m \u001b[0mforward_call\u001b[0m\u001b[0;34m(\u001b[0m\u001b[0;34m*\u001b[0m\u001b[0margs\u001b[0m\u001b[0;34m,\u001b[0m \u001b[0;34m**\u001b[0m\u001b[0mkwargs\u001b[0m\u001b[0;34m)\u001b[0m\u001b[0;34m\u001b[0m\u001b[0;34m\u001b[0m\u001b[0m\n\u001b[0m\u001b[1;32m   1542\u001b[0m \u001b[0;34m\u001b[0m\u001b[0m\n\u001b[1;32m   1543\u001b[0m         \u001b[0;32mtry\u001b[0m\u001b[0;34m:\u001b[0m\u001b[0;34m\u001b[0m\u001b[0;34m\u001b[0m\u001b[0m\n",
            "\u001b[0;32m/usr/local/lib/python3.10/dist-packages/transformers/models/bert/modeling_bert.py\u001b[0m in \u001b[0;36mforward\u001b[0;34m(self, input_ids, attention_mask, token_type_ids, position_ids, head_mask, inputs_embeds, encoder_hidden_states, encoder_attention_mask, past_key_values, use_cache, output_attentions, output_hidden_states, return_dict)\u001b[0m\n\u001b[1;32m   1071\u001b[0m                 \u001b[0mtoken_type_ids\u001b[0m \u001b[0;34m=\u001b[0m \u001b[0mtorch\u001b[0m\u001b[0;34m.\u001b[0m\u001b[0mzeros\u001b[0m\u001b[0;34m(\u001b[0m\u001b[0minput_shape\u001b[0m\u001b[0;34m,\u001b[0m \u001b[0mdtype\u001b[0m\u001b[0;34m=\u001b[0m\u001b[0mtorch\u001b[0m\u001b[0;34m.\u001b[0m\u001b[0mlong\u001b[0m\u001b[0;34m,\u001b[0m \u001b[0mdevice\u001b[0m\u001b[0;34m=\u001b[0m\u001b[0mdevice\u001b[0m\u001b[0;34m)\u001b[0m\u001b[0;34m\u001b[0m\u001b[0;34m\u001b[0m\u001b[0m\n\u001b[1;32m   1072\u001b[0m \u001b[0;34m\u001b[0m\u001b[0m\n\u001b[0;32m-> 1073\u001b[0;31m         embedding_output = self.embeddings(\n\u001b[0m\u001b[1;32m   1074\u001b[0m             \u001b[0minput_ids\u001b[0m\u001b[0;34m=\u001b[0m\u001b[0minput_ids\u001b[0m\u001b[0;34m,\u001b[0m\u001b[0;34m\u001b[0m\u001b[0;34m\u001b[0m\u001b[0m\n\u001b[1;32m   1075\u001b[0m             \u001b[0mposition_ids\u001b[0m\u001b[0;34m=\u001b[0m\u001b[0mposition_ids\u001b[0m\u001b[0;34m,\u001b[0m\u001b[0;34m\u001b[0m\u001b[0;34m\u001b[0m\u001b[0m\n",
            "\u001b[0;32m/usr/local/lib/python3.10/dist-packages/torch/nn/modules/module.py\u001b[0m in \u001b[0;36m_wrapped_call_impl\u001b[0;34m(self, *args, **kwargs)\u001b[0m\n\u001b[1;32m   1530\u001b[0m             \u001b[0;32mreturn\u001b[0m \u001b[0mself\u001b[0m\u001b[0;34m.\u001b[0m\u001b[0m_compiled_call_impl\u001b[0m\u001b[0;34m(\u001b[0m\u001b[0;34m*\u001b[0m\u001b[0margs\u001b[0m\u001b[0;34m,\u001b[0m \u001b[0;34m**\u001b[0m\u001b[0mkwargs\u001b[0m\u001b[0;34m)\u001b[0m  \u001b[0;31m# type: ignore[misc]\u001b[0m\u001b[0;34m\u001b[0m\u001b[0;34m\u001b[0m\u001b[0m\n\u001b[1;32m   1531\u001b[0m         \u001b[0;32melse\u001b[0m\u001b[0;34m:\u001b[0m\u001b[0;34m\u001b[0m\u001b[0;34m\u001b[0m\u001b[0m\n\u001b[0;32m-> 1532\u001b[0;31m             \u001b[0;32mreturn\u001b[0m \u001b[0mself\u001b[0m\u001b[0;34m.\u001b[0m\u001b[0m_call_impl\u001b[0m\u001b[0;34m(\u001b[0m\u001b[0;34m*\u001b[0m\u001b[0margs\u001b[0m\u001b[0;34m,\u001b[0m \u001b[0;34m**\u001b[0m\u001b[0mkwargs\u001b[0m\u001b[0;34m)\u001b[0m\u001b[0;34m\u001b[0m\u001b[0;34m\u001b[0m\u001b[0m\n\u001b[0m\u001b[1;32m   1533\u001b[0m \u001b[0;34m\u001b[0m\u001b[0m\n\u001b[1;32m   1534\u001b[0m     \u001b[0;32mdef\u001b[0m \u001b[0m_call_impl\u001b[0m\u001b[0;34m(\u001b[0m\u001b[0mself\u001b[0m\u001b[0;34m,\u001b[0m \u001b[0;34m*\u001b[0m\u001b[0margs\u001b[0m\u001b[0;34m,\u001b[0m \u001b[0;34m**\u001b[0m\u001b[0mkwargs\u001b[0m\u001b[0;34m)\u001b[0m\u001b[0;34m:\u001b[0m\u001b[0;34m\u001b[0m\u001b[0;34m\u001b[0m\u001b[0m\n",
            "\u001b[0;32m/usr/local/lib/python3.10/dist-packages/torch/nn/modules/module.py\u001b[0m in \u001b[0;36m_call_impl\u001b[0;34m(self, *args, **kwargs)\u001b[0m\n\u001b[1;32m   1539\u001b[0m                 \u001b[0;32mor\u001b[0m \u001b[0m_global_backward_pre_hooks\u001b[0m \u001b[0;32mor\u001b[0m \u001b[0m_global_backward_hooks\u001b[0m\u001b[0;34m\u001b[0m\u001b[0;34m\u001b[0m\u001b[0m\n\u001b[1;32m   1540\u001b[0m                 or _global_forward_hooks or _global_forward_pre_hooks):\n\u001b[0;32m-> 1541\u001b[0;31m             \u001b[0;32mreturn\u001b[0m \u001b[0mforward_call\u001b[0m\u001b[0;34m(\u001b[0m\u001b[0;34m*\u001b[0m\u001b[0margs\u001b[0m\u001b[0;34m,\u001b[0m \u001b[0;34m**\u001b[0m\u001b[0mkwargs\u001b[0m\u001b[0;34m)\u001b[0m\u001b[0;34m\u001b[0m\u001b[0;34m\u001b[0m\u001b[0m\n\u001b[0m\u001b[1;32m   1542\u001b[0m \u001b[0;34m\u001b[0m\u001b[0m\n\u001b[1;32m   1543\u001b[0m         \u001b[0;32mtry\u001b[0m\u001b[0;34m:\u001b[0m\u001b[0;34m\u001b[0m\u001b[0;34m\u001b[0m\u001b[0m\n",
            "\u001b[0;32m/usr/local/lib/python3.10/dist-packages/transformers/models/bert/modeling_bert.py\u001b[0m in \u001b[0;36mforward\u001b[0;34m(self, input_ids, token_type_ids, position_ids, inputs_embeds, past_key_values_length)\u001b[0m\n\u001b[1;32m    214\u001b[0m         \u001b[0;32mif\u001b[0m \u001b[0mself\u001b[0m\u001b[0;34m.\u001b[0m\u001b[0mposition_embedding_type\u001b[0m \u001b[0;34m==\u001b[0m \u001b[0;34m\"absolute\"\u001b[0m\u001b[0;34m:\u001b[0m\u001b[0;34m\u001b[0m\u001b[0;34m\u001b[0m\u001b[0m\n\u001b[1;32m    215\u001b[0m             \u001b[0mposition_embeddings\u001b[0m \u001b[0;34m=\u001b[0m \u001b[0mself\u001b[0m\u001b[0;34m.\u001b[0m\u001b[0mposition_embeddings\u001b[0m\u001b[0;34m(\u001b[0m\u001b[0mposition_ids\u001b[0m\u001b[0;34m)\u001b[0m\u001b[0;34m\u001b[0m\u001b[0;34m\u001b[0m\u001b[0m\n\u001b[0;32m--> 216\u001b[0;31m             \u001b[0membeddings\u001b[0m \u001b[0;34m+=\u001b[0m \u001b[0mposition_embeddings\u001b[0m\u001b[0;34m\u001b[0m\u001b[0;34m\u001b[0m\u001b[0m\n\u001b[0m\u001b[1;32m    217\u001b[0m         \u001b[0membeddings\u001b[0m \u001b[0;34m=\u001b[0m \u001b[0mself\u001b[0m\u001b[0;34m.\u001b[0m\u001b[0mLayerNorm\u001b[0m\u001b[0;34m(\u001b[0m\u001b[0membeddings\u001b[0m\u001b[0;34m)\u001b[0m\u001b[0;34m\u001b[0m\u001b[0;34m\u001b[0m\u001b[0m\n\u001b[1;32m    218\u001b[0m         \u001b[0membeddings\u001b[0m \u001b[0;34m=\u001b[0m \u001b[0mself\u001b[0m\u001b[0;34m.\u001b[0m\u001b[0mdropout\u001b[0m\u001b[0;34m(\u001b[0m\u001b[0membeddings\u001b[0m\u001b[0;34m)\u001b[0m\u001b[0;34m\u001b[0m\u001b[0;34m\u001b[0m\u001b[0m\n",
            "\u001b[0;31mRuntimeError\u001b[0m: The size of tensor a (1442) must match the size of tensor b (512) at non-singleton dimension 1"
          ]
        }
      ]
    },
    {
      "cell_type": "code",
      "source": [
        "finvader(long_text, use_sentibignomics = True, use_henry = True, indicator = 'compound')"
      ],
      "metadata": {
        "colab": {
          "base_uri": "https://localhost:8080/"
        },
        "id": "r0KZowlmY0G9",
        "outputId": "faa153f3-eb95-431b-e9f4-575a0b78149b"
      },
      "execution_count": 21,
      "outputs": [
        {
          "output_type": "execute_result",
          "data": {
            "text/plain": [
              "0.9966"
            ]
          },
          "metadata": {},
          "execution_count": 21
        }
      ]
    },
    {
      "cell_type": "code",
      "source": [
        "file = open(\"10-K 20230131.txt\", \"r\")\n",
        "very_long_text = file.read()\n",
        "file.close()\n",
        "\n",
        "len(very_long_text)"
      ],
      "metadata": {
        "colab": {
          "base_uri": "https://localhost:8080/"
        },
        "id": "IqC2xQQoY4Wm",
        "outputId": "63c9e702-a774-4cc7-9d54-ea517162edf5"
      },
      "execution_count": 22,
      "outputs": [
        {
          "output_type": "execute_result",
          "data": {
            "text/plain": [
              "370428"
            ]
          },
          "metadata": {},
          "execution_count": 22
        }
      ]
    },
    {
      "cell_type": "code",
      "source": [
        "finvader(very_long_text, use_sentibignomics = True, use_henry = True, indicator = 'compound')"
      ],
      "metadata": {
        "colab": {
          "base_uri": "https://localhost:8080/"
        },
        "id": "6zL5gpndY1hM",
        "outputId": "fefe0696-28f1-4786-8844-90bc19789198"
      },
      "execution_count": 23,
      "outputs": [
        {
          "output_type": "execute_result",
          "data": {
            "text/plain": [
              "1.0"
            ]
          },
          "metadata": {},
          "execution_count": 23
        }
      ]
    },
    {
      "cell_type": "markdown",
      "source": [
        "#Negative scores?"
      ],
      "metadata": {
        "id": "QY-4Xpc4cMU6"
      }
    },
    {
      "cell_type": "code",
      "source": [
        "finvader(negative_text, use_sentibignomics = True, use_henry = True, indicator = 'compound')"
      ],
      "metadata": {
        "colab": {
          "base_uri": "https://localhost:8080/"
        },
        "id": "QShwuBkhcQoa",
        "outputId": "ae16cb7e-0e90-4bec-b515-43149b92dd83"
      },
      "execution_count": 24,
      "outputs": [
        {
          "output_type": "execute_result",
          "data": {
            "text/plain": [
              "-0.9311"
            ]
          },
          "metadata": {},
          "execution_count": 24
        }
      ]
    },
    {
      "cell_type": "code",
      "source": [
        "print(pipe_Prosus(negative_text))\n",
        "print(pipe_yiy(negative_text))"
      ],
      "metadata": {
        "colab": {
          "base_uri": "https://localhost:8080/"
        },
        "id": "sAs4Dpi-cQgl",
        "outputId": "cad1a7f1-3fdd-4f45-fd3c-9e410ae4359b"
      },
      "execution_count": 25,
      "outputs": [
        {
          "output_type": "stream",
          "name": "stdout",
          "text": [
            "[{'label': 'neutral', 'score': 0.5215967893600464}]\n",
            "[{'label': 'Negative', 'score': 0.7770941257476807}]\n"
          ]
        }
      ]
    },
    {
      "cell_type": "markdown",
      "source": [
        "#How to compare finVADER and finBERT scores?"
      ],
      "metadata": {
        "id": "y-ZZykEec7Xv"
      }
    },
    {
      "cell_type": "code",
      "source": [
        "from transformers import AutoModelForSequenceClassification, AutoTokenizer\n",
        "import torch\n",
        "\n",
        "#model_name = \"ProsusAI/finbert\"\n",
        "model_name = \"yiyanghkust/finbert-tone\"\n",
        "model_finbert = AutoModelForSequenceClassification.from_pretrained(model_name)\n",
        "tokenizer_finbert = AutoTokenizer.from_pretrained(model_name)\n",
        "\n",
        "def output_probabilities(text):\n",
        "  global tokenizer_finbert\n",
        "  global model_finbert\n",
        "  inputs = tokenizer_finbert(text, return_tensors=\"pt\")\n",
        "  outputs = model_finbert(**inputs)\n",
        "  return torch.nn.functional.softmax(outputs.logits, dim=-1)\n",
        "\n",
        "def convert_finbert_to_vader(text):\n",
        "  distribution = output_probabilities(text)\n",
        "  return float(distribution[0][1]-distribution[0][2])"
      ],
      "metadata": {
        "id": "P25iAHlfc9tL"
      },
      "execution_count": 28,
      "outputs": []
    },
    {
      "cell_type": "code",
      "source": [
        "def get_vader_score(text):\n",
        "  return finvader(text, use_sentibignomics = True, use_henry = True, indicator = 'compound')"
      ],
      "metadata": {
        "id": "EwgBrscRdNT_"
      },
      "execution_count": 29,
      "outputs": []
    },
    {
      "cell_type": "code",
      "source": [
        "convert_finbert_to_vader(text)"
      ],
      "metadata": {
        "colab": {
          "base_uri": "https://localhost:8080/"
        },
        "id": "mQLHX-H_g-j1",
        "outputId": "b17f390d-39e9-48de-8eba-6f5bf4d4db3c"
      },
      "execution_count": 33,
      "outputs": [
        {
          "output_type": "execute_result",
          "data": {
            "text/plain": [
              "0.9999998807907104"
            ]
          },
          "metadata": {},
          "execution_count": 33
        }
      ]
    },
    {
      "cell_type": "code",
      "source": [
        "get_vader_score(text)"
      ],
      "metadata": {
        "colab": {
          "base_uri": "https://localhost:8080/"
        },
        "id": "DqJR4saUhA3R",
        "outputId": "cbf08d25-ca00-43b7-8a08-b7c9423ce3ef"
      },
      "execution_count": 31,
      "outputs": [
        {
          "output_type": "execute_result",
          "data": {
            "text/plain": [
              "0.8911"
            ]
          },
          "metadata": {},
          "execution_count": 31
        }
      ]
    },
    {
      "cell_type": "markdown",
      "source": [
        "#GPT"
      ],
      "metadata": {
        "id": "iL3B5EPjzj5C"
      }
    },
    {
      "cell_type": "code",
      "source": [
        "!pip install --upgrade openai"
      ],
      "metadata": {
        "id": "uXzF1F6hznl0"
      },
      "execution_count": null,
      "outputs": []
    },
    {
      "cell_type": "code",
      "source": [
        "from openai import OpenAI\n",
        "from google.colab import userdata\n",
        "\n",
        "client = OpenAI(api_key=userdata.get('gpt-key'))\n",
        "\n",
        "stream = client.chat.completions.create(\n",
        "    model=\"gpt-3.5-turbo\",\n",
        "    messages=[{\"role\": \"user\", \"content\": \"Say this is a test\"}],\n",
        "    stream=True,\n",
        ")\n",
        "for chunk in stream:\n",
        "    if chunk.choices[0].delta.content is not None:\n",
        "        print(chunk.choices[0].delta.content, end=\"\")"
      ],
      "metadata": {
        "colab": {
          "base_uri": "https://localhost:8080/"
        },
        "id": "TEvtMHkzHVLY",
        "outputId": "a47d354d-6313-4a74-a8eb-b01cce20edf2"
      },
      "execution_count": 35,
      "outputs": [
        {
          "output_type": "stream",
          "name": "stdout",
          "text": [
            "This is a test."
          ]
        }
      ]
    },
    {
      "cell_type": "markdown",
      "source": [
        "Starting with a simple prompt:"
      ],
      "metadata": {
        "id": "PIHV3sUpUmWJ"
      }
    },
    {
      "cell_type": "code",
      "source": [
        "from openai import OpenAI\n",
        "from google.colab import userdata\n",
        "\n",
        "client = OpenAI(api_key=userdata.get('gpt-key'))\n",
        "\n",
        "prompt = 'Classify the financial sentiment of the following text enclosed within the angle brackets. Reply only with a score between -1 and 1. '\n",
        "\n",
        "def llm_score(text, model):\n",
        "  stream = client.chat.completions.create(\n",
        "      model=model,\n",
        "      messages=[{\"role\": \"user\", \"content\": prompt + '<' + text + '>'}],\n",
        "      stream=True,\n",
        "  )\n",
        "  for chunk in stream:\n",
        "      if chunk.choices[0].delta.content is not None:\n",
        "          print(chunk.choices[0].delta.content, end=\"\")"
      ],
      "metadata": {
        "id": "aTczUb8GVH5X"
      },
      "execution_count": 36,
      "outputs": []
    },
    {
      "cell_type": "code",
      "source": [
        "# default value of temperature is 1\n",
        "for x in range(6):\n",
        "  llm_score(text, \"gpt-3.5-turbo\")\n",
        "  print('\\t')"
      ],
      "metadata": {
        "colab": {
          "base_uri": "https://localhost:8080/"
        },
        "id": "BIxO1ayVX10-",
        "outputId": "a8f8f473-0753-4abd-a2fa-1774aef40cf4"
      },
      "execution_count": 37,
      "outputs": [
        {
          "output_type": "stream",
          "name": "stdout",
          "text": [
            "1\t\n",
            "1\t\n",
            "0.8\t\n",
            "0.8\t\n",
            "0.8\t\n",
            "0.8\t\n"
          ]
        }
      ]
    },
    {
      "cell_type": "markdown",
      "source": [
        "Using a more sophisticated prompt:"
      ],
      "metadata": {
        "id": "zp0CUAQFUvOL"
      }
    },
    {
      "cell_type": "code",
      "source": [
        "from openai import OpenAI\n",
        "from google.colab import userdata\n",
        "\n",
        "client = OpenAI(api_key=userdata.get('gpt-key'))\n",
        "\n",
        "def llm_score(text, model, temp, rep):\n",
        "  completion = client.chat.completions.create(\n",
        "      model=model,\n",
        "      temperature = temp,\n",
        "      n = rep,\n",
        "      messages=[\n",
        "        {\"role\": \"system\", \"content\": \"\"\"You are a financial expert. Your task is to classify the financial sentiment of a given input text.\n",
        "                                      For a given input, you need to output a single number only which is a sentiment score between -1 and 1.\"\"\"},\n",
        "        {\"role\": \"user\",  \"content\": \"\"\"Classify the financial sentiment of the following text enclosed within angle brackets.\n",
        "                                      Reply only with a score between -1 and 1. <\"\"\" + text + \">\"}\n",
        "      ]\n",
        "    )\n",
        "\n",
        "  sample = []\n",
        "  for i in range(rep):\n",
        "    score = completion.choices[i].message.content.rstrip(\".\")\n",
        "    if len(score) < 5:\n",
        "       sample.append(float(score))\n",
        "\n",
        "  return sample"
      ],
      "metadata": {
        "id": "dVBHr33TBSzk"
      },
      "execution_count": 38,
      "outputs": []
    },
    {
      "cell_type": "code",
      "source": [
        "text_pos = \"Adjusted for changes in the Group structure , the Division 's net sales increased by 1.7 % .\"\n",
        "\n",
        "#text_neu = \"A maximum of 666,104 new shares can further be subscribed for by exercising B options under the 2004 stock option plan .\"\n",
        "text_neu = \"Aviation Systems Maintenance is based in Kansas and generated net sales of USD 2.6 million for 2008 .\"\n",
        "\n",
        "text_neg = \"As a result of the negotiations the employment of 130 blue - and white-collar employees at the Oulu plant would be terminated .\"\n",
        "#text_neg = \"On the other hand , Finnish sawmills ' production has decreased even more.\""
      ],
      "metadata": {
        "id": "xEdyYqNJ_746"
      },
      "execution_count": 39,
      "outputs": []
    },
    {
      "cell_type": "code",
      "source": [
        "print( finvader(text_pos, use_sentibignomics = True, use_henry = True, indicator = 'compound') )\n",
        "\n",
        "print( finvader(text_neu, use_sentibignomics = True, use_henry = True, indicator = 'compound') )\n",
        "\n",
        "print( finvader(text_neg, use_sentibignomics = True, use_henry = True, indicator = 'compound') )"
      ],
      "metadata": {
        "colab": {
          "base_uri": "https://localhost:8080/"
        },
        "id": "ODFCHv-ZbVeb",
        "outputId": "8ebb688f-2cf1-4ee6-a969-2dec006d2075"
      },
      "execution_count": 40,
      "outputs": [
        {
          "output_type": "stream",
          "name": "stdout",
          "text": [
            "0.3716\n",
            "0.0258\n",
            "0.0245\n"
          ]
        }
      ]
    },
    {
      "cell_type": "markdown",
      "source": [
        "Zero temperature is deterministic"
      ],
      "metadata": {
        "id": "K_ZOva9OVPFe"
      }
    },
    {
      "cell_type": "code",
      "source": [
        "import statistics\n",
        "\n",
        "n = 100\n",
        "T = 0\n",
        "sample = llm_score(text_pos, \"gpt-3.5-turbo\", T, n)\n",
        "\n",
        "print(\"Average of sample is\", (statistics.mean(sample)))\n",
        "print(\"Standard Deviation of sample is\", (statistics.stdev(sample)))"
      ],
      "metadata": {
        "colab": {
          "base_uri": "https://localhost:8080/"
        },
        "id": "hLZCTLJn69ky",
        "outputId": "55dab46f-e64a-43a9-f514-bd13bcd4d397"
      },
      "execution_count": 41,
      "outputs": [
        {
          "output_type": "stream",
          "name": "stdout",
          "text": [
            "Average of sample is 0.8\n",
            "Standard Deviation of sample is 0.0\n"
          ]
        }
      ]
    },
    {
      "cell_type": "markdown",
      "source": [
        "Finite temperature introduces some \"fluctuations\"\n",
        "\n"
      ],
      "metadata": {
        "id": "nr1TSoZlVbq0"
      }
    },
    {
      "cell_type": "code",
      "source": [
        "T = 0.5\n",
        "sample = llm_score(text_pos, \"gpt-3.5-turbo\", T, n)\n",
        "\n",
        "print(\"Average of sample is\", (statistics.mean(sample)))\n",
        "print(\"Standard Deviation of sample is\", (statistics.stdev(sample)))"
      ],
      "metadata": {
        "colab": {
          "base_uri": "https://localhost:8080/"
        },
        "id": "0DyVt25D87Sb",
        "outputId": "cb79e92a-760d-4d1c-89a4-179e681b6d29"
      },
      "execution_count": 42,
      "outputs": [
        {
          "output_type": "stream",
          "name": "stdout",
          "text": [
            "Average of sample is 0.794\n",
            "Standard Deviation of sample is 0.02386832565759422\n"
          ]
        }
      ]
    },
    {
      "cell_type": "markdown",
      "source": [
        "Be careful! **Sometimes the output is** not just a single score, but **a short text**, e.g.\n",
        "\n",
        "> The given text conveys positive financial sentiment. The company experienced a significant increase in total revenues in 2022 compared to the prior year. Additionally, it mentions ramping up production, building new manufacturing capacity, and expanding operations to enable further revenue growth. Therefore, the sentiment score is 0.8, indicating a positive financial outlook.\n",
        "\n"
      ],
      "metadata": {
        "id": "WW6HeJF_TAzl"
      }
    },
    {
      "cell_type": "markdown",
      "source": [
        "##Testing *gpt-3.5-turbo*\n",
        "\n"
      ],
      "metadata": {
        "id": "2yDQHqMQWMbq"
      }
    },
    {
      "cell_type": "code",
      "source": [
        "import matplotlib.pyplot as plt\n",
        "import numpy as np\n",
        "import statistics\n",
        "\n",
        "n = 128\n",
        "temp_list = [0, 0.5, 1, 1.5]\n",
        "model = \"gpt-3.5-turbo\"\n",
        "\n",
        "score_avg = []\n",
        "score_stdev = []\n",
        "for T in temp_list:\n",
        "  sample = llm_score(text_pos, model, T, n)\n",
        "  score_avg.append(statistics.mean(sample))\n",
        "  score_stdev.append(statistics.stdev(sample))"
      ],
      "metadata": {
        "id": "1lGmSv27BYvG"
      },
      "execution_count": 43,
      "outputs": []
    },
    {
      "cell_type": "code",
      "source": [
        "score_avg_neu = []\n",
        "score_stdev_neu = []\n",
        "for T in temp_list:\n",
        "  sample = llm_score(text_neu, model, T, n)\n",
        "  score_avg_neu.append(statistics.mean(sample))\n",
        "  score_stdev_neu.append(statistics.stdev(sample))"
      ],
      "metadata": {
        "id": "o9jBuMsqQjzs"
      },
      "execution_count": 44,
      "outputs": []
    },
    {
      "cell_type": "code",
      "source": [
        "score_avg_neg = []\n",
        "score_stdev_neg = []\n",
        "for T in temp_list:\n",
        "  sample = llm_score(text_neg, model, T, n)\n",
        "  score_avg_neg.append(statistics.mean(sample))\n",
        "  score_stdev_neg.append(statistics.stdev(sample))"
      ],
      "metadata": {
        "id": "Wo1XsNiaQqTW"
      },
      "execution_count": 45,
      "outputs": []
    },
    {
      "cell_type": "code",
      "source": [
        "fig = plt.figure()\n",
        "plt.errorbar(temp_list, score_avg, yerr=score_stdev, label='positive', marker='o', linestyle='')\n",
        "plt.errorbar(temp_list, score_avg_neu, yerr=score_stdev_neu, label='neutral', marker='o', linestyle='')\n",
        "plt.errorbar(temp_list, score_avg_neg, yerr=score_stdev_neg, label='negative', marker='o', linestyle='')\n",
        "\n",
        "font = {'family':'serif','size':15}\n",
        "#plt.title(\"\")\n",
        "plt.xlabel('temperature', fontdict = font)\n",
        "plt.ylabel('sentiment score', fontdict = font)\n",
        "plt.xlim(-0.05, 1.55)\n",
        "plt.ylim(-1.04, 1.04)\n",
        "plt.xticks(np.arange(0, 1.75, step=0.5))\n",
        "plt.grid(linestyle = '--', linewidth = 0.5)\n",
        "plt.legend(bbox_to_anchor =(0.87, 1.1), ncol = 3)\n",
        "plt.show()"
      ],
      "metadata": {
        "colab": {
          "base_uri": "https://localhost:8080/",
          "height": 484
        },
        "id": "0_1309nlH0so",
        "outputId": "45c249a0-c96f-4d5d-ebfc-82879a574137"
      },
      "execution_count": 65,
      "outputs": [
        {
          "output_type": "display_data",
          "data": {
            "text/plain": [
              "<Figure size 640x480 with 1 Axes>"
            ],
            "image/png": "[encoded data removed]"
          },
          "metadata": {}
        }
      ]
    },
    {
      "cell_type": "markdown",
      "source": [
        "##Testing *gpt-4-turbo*"
      ],
      "metadata": {
        "id": "knyDhk6FWTMO"
      }
    },
    {
      "cell_type": "code",
      "source": [
        "import matplotlib.pyplot as plt\n",
        "import numpy as np\n",
        "import statistics\n",
        "\n",
        "n = 128\n",
        "temp_list = [0, 0.5, 1, 1.5]\n",
        "model = \"gpt-4-turbo\"\n",
        "\n",
        "score_avg = []\n",
        "score_stdev = []\n",
        "for T in temp_list:\n",
        "  sample = llm_score(text_pos, model, T, n)\n",
        "  score_avg.append(statistics.mean(sample))\n",
        "  score_stdev.append(statistics.stdev(sample))"
      ],
      "metadata": {
        "id": "XPxqNMZWKqGG"
      },
      "execution_count": 70,
      "outputs": []
    },
    {
      "cell_type": "code",
      "source": [
        "score_avg_neu = []\n",
        "score_stdev_neu = []\n",
        "for T in temp_list:\n",
        "  sample = llm_score(text_neu, model, T, n)\n",
        "  score_avg_neu.append(statistics.mean(sample))\n",
        "  score_stdev_neu.append(statistics.stdev(sample))"
      ],
      "metadata": {
        "id": "f15r_A6PKp-J"
      },
      "execution_count": 71,
      "outputs": []
    },
    {
      "cell_type": "code",
      "source": [
        "score_avg_neg = []\n",
        "score_stdev_neg = []\n",
        "for T in temp_list:\n",
        "  sample = llm_score(text_neg, model, T, n)\n",
        "  score_avg_neg.append(statistics.mean(sample))\n",
        "  score_stdev_neg.append(statistics.stdev(sample))"
      ],
      "metadata": {
        "id": "H2AvFzmfUJPM"
      },
      "execution_count": 72,
      "outputs": []
    },
    {
      "cell_type": "code",
      "source": [
        "fig = plt.figure()\n",
        "plt.errorbar(temp_list, score_avg, yerr=score_stdev, label='positive', marker='o', linestyle='')\n",
        "plt.errorbar(temp_list, score_avg_neu, yerr=score_stdev_neu, label='neutral', marker='o', linestyle='')\n",
        "plt.errorbar(temp_list, score_avg_neg, yerr=score_stdev_neg, label='negative', marker='o', linestyle='')\n",
        "\n",
        "font = {'family':'serif','size':15}\n",
        "#plt.title(model)\n",
        "plt.xlabel('temperature', fontdict = font)\n",
        "plt.ylabel('sentiment score', fontdict = font)\n",
        "plt.xlim(-0.05, 1.55)\n",
        "plt.ylim(-1.04, 1.04)\n",
        "plt.xticks(np.arange(0, 1.75, step=0.5))\n",
        "plt.grid(linestyle = '--', linewidth = 0.5)\n",
        "plt.legend(bbox_to_anchor =(0.87, 1.1), ncol = 3)\n",
        "plt.show()"
      ],
      "metadata": {
        "colab": {
          "base_uri": "https://localhost:8080/",
          "height": 484
        },
        "id": "OULxyQ88UK1n",
        "outputId": "e52d86df-ab55-4207-ffc7-4d4fc16228fb"
      },
      "execution_count": 73,
      "outputs": [
        {
          "output_type": "display_data",
          "data": {
            "text/plain": [
              "<Figure size 640x480 with 1 Axes>"
            ],
            "image/png": "[encoded data removed]"
          },
          "metadata": {}
        }
      ]
    },
    {
      "cell_type": "markdown",
      "source": [
        "##Testing *gpt-4o*"
      ],
      "metadata": {
        "id": "gOSm4Xn2WVH3"
      }
    },
    {
      "cell_type": "code",
      "source": [
        "import matplotlib.pyplot as plt\n",
        "import numpy as np\n",
        "import statistics\n",
        "\n",
        "n = 128\n",
        "#temp_list = [0, 0.5, 1, 1.5]\n",
        "temp_list = [0, 0.5, 1]\n",
        "model = \"gpt-4o\"\n",
        "\n",
        "score_avg = []\n",
        "score_stdev = []\n",
        "for T in temp_list:\n",
        "  sample = llm_score(text_pos, model, T, n)\n",
        "  score_avg.append(statistics.mean(sample))\n",
        "  score_stdev.append(statistics.stdev(sample))"
      ],
      "metadata": {
        "id": "FZOsI31aU9BR"
      },
      "execution_count": 78,
      "outputs": []
    },
    {
      "cell_type": "code",
      "source": [
        "score_avg_neu = []\n",
        "score_stdev_neu = []\n",
        "for T in temp_list:\n",
        "  sample = llm_score(text_neu, model, T, n)\n",
        "  score_avg_neu.append(statistics.mean(sample))\n",
        "  score_stdev_neu.append(statistics.stdev(sample))"
      ],
      "metadata": {
        "id": "Dk5tRwkeVD-e"
      },
      "execution_count": 79,
      "outputs": []
    },
    {
      "cell_type": "code",
      "source": [
        "score_avg_neg = []\n",
        "score_stdev_neg = []\n",
        "for T in temp_list:\n",
        "  sample = llm_score(text_neg, model, T, n)\n",
        "  score_avg_neg.append(statistics.mean(sample))\n",
        "  score_stdev_neg.append(statistics.stdev(sample))"
      ],
      "metadata": {
        "id": "7gjhZJdoVF5N"
      },
      "execution_count": 80,
      "outputs": []
    },
    {
      "cell_type": "code",
      "source": [
        "fig = plt.figure()\n",
        "plt.errorbar(temp_list, score_avg, yerr=score_stdev, label='positive', marker='o', linestyle='')\n",
        "plt.errorbar(temp_list, score_avg_neu, yerr=score_stdev_neu, label='neutral', marker='o', linestyle='')\n",
        "plt.errorbar(temp_list, score_avg_neg, yerr=score_stdev_neg, label='negative', marker='o', linestyle='')\n",
        "\n",
        "font = {'family':'serif','size':15}\n",
        "#plt.title(model)\n",
        "plt.xlabel('temperature', fontdict = font)\n",
        "plt.ylabel('sentiment score', fontdict = font)\n",
        "plt.xlim(-0.05, 1.55)\n",
        "plt.ylim(-1.04, 1.04)\n",
        "plt.xticks(np.arange(0, 1.75, step=0.5))\n",
        "plt.grid(linestyle = '--', linewidth = 0.5)\n",
        "plt.legend(bbox_to_anchor =(0.87, 1.1), ncol = 3)\n",
        "plt.show()"
      ],
      "metadata": {
        "colab": {
          "base_uri": "https://localhost:8080/",
          "height": 484
        },
        "id": "xYSoHLlaVHS-",
        "outputId": "cf9b560e-b5cc-4605-d917-9467eccd3238"
      },
      "execution_count": 81,
      "outputs": [
        {
          "output_type": "display_data",
          "data": {
            "text/plain": [
              "<Figure size 640x480 with 1 Axes>"
            ],
            "image/png": "[encoded data removed]"
          },
          "metadata": {}
        }
      ]
    },
    {
      "cell_type": "markdown",
      "source": [
        "**Using list of sentences** as the input"
      ],
      "metadata": {
        "id": "vZdwgEg6WhRD"
      }
    },
    {
      "cell_type": "code",
      "source": [
        "from openai import OpenAI\n",
        "from google.colab import userdata\n",
        "\n",
        "client = OpenAI(api_key=userdata.get('gpt-key'))\n",
        "\n",
        "def llm_score_for_list(text_list, model, temp):\n",
        "  completion = client.chat.completions.create(\n",
        "      model=model,\n",
        "      temperature = temp,\n",
        "      n = 1,\n",
        "      messages=[\n",
        "        {\"role\": \"system\", \"content\": \"\"\"You are a financial expert. Your task is to classify the financial sentiment of a given input text.\n",
        "                                        For a given input, you need to output a single number only which is a sentiment score between -1 and 1.\n",
        "                                        -1 corresponds to completely negative sentiment, +1 corresponds to completely positive sentiment.\"\"\"},\n",
        "        {\"role\": \"user\",  \"content\": f\"\"\"Classify the financial sentiment of the following sentences included in a list.\n",
        "                                      Give a score between -1 and 1 for each element of the list. Output only the scores as a list!\n",
        "                                      {text_list}\"\"\"}\n",
        "      ]\n",
        "    )\n",
        "\n",
        "  return completion"
      ],
      "metadata": {
        "id": "DmJuJVuyfRXx"
      },
      "execution_count": 82,
      "outputs": []
    },
    {
      "cell_type": "code",
      "source": [
        "text_list = [\"To the extent that countries do not enforce Abbott’s intellectual property rights, Abbott’s future revenues and operating income could be reduced.\",\n",
        "             \"For example, Abbott may be required to provide additional warnings on a product’s label or narrow its approved intended use, either of which could reduce the product’s market acceptance.\",\n",
        "             \"If serious safety concerns arise with an Abbott product, sales of the product have been and could be halted by Abbott or by regulatory authorities.\",\n",
        "             \"Dividends paid totaled $3.309 billion in 2022 compared to $3.202 billion in 2021.\",\n",
        "             \"Abbott declared dividends of $1.92 per share in 2022 and $1.82 per share in 2021, an increase of approximately 5.5 percent.\"]\n",
        "\n",
        "T=0\n",
        "model=\"gpt-4o\"\n",
        "print(llm_score_for_list(text_list, model, T).choices[0].message.content)"
      ],
      "metadata": {
        "colab": {
          "base_uri": "https://localhost:8080/"
        },
        "id": "X2vemmGihCAP",
        "outputId": "ee3cc3d8-5fd3-4a22-d6c5-75cde51302b3"
      },
      "execution_count": 83,
      "outputs": [
        {
          "output_type": "stream",
          "name": "stdout",
          "text": [
            "[-0.8, -0.6, -0.9, 0.2, 0.7]\n"
          ]
        }
      ]
    },
    {
      "cell_type": "code",
      "source": [
        "for s in text_list:\n",
        "  print(llm_score(s, model, T, 1))"
      ],
      "metadata": {
        "colab": {
          "base_uri": "https://localhost:8080/"
        },
        "id": "XOzumUt5Zx4M",
        "outputId": "f856483f-415d-459f-f200-f0cec2374094"
      },
      "execution_count": 84,
      "outputs": [
        {
          "output_type": "stream",
          "name": "stdout",
          "text": [
            "[-0.5]\n",
            "[-0.5]\n",
            "[-0.8]\n",
            "[0.1]\n",
            "[0.5]\n"
          ]
        }
      ]
    },
    {
      "cell_type": "code",
      "source": [
        "import json\n",
        "with open('./combined_labeled_sentences.json', 'r', encoding='utf-8') as f:\n",
        "    sentences_dictionary = json.load(f)"
      ],
      "metadata": {
        "id": "Rj98RvpMZ5yU"
      },
      "execution_count": 85,
      "outputs": []
    },
    {
      "cell_type": "code",
      "source": [
        "tsla22_relevant = []\n",
        "\n",
        "for s in sentences_dictionary[\"tsla22_sentences.json\"]:\n",
        "  if s[1]==1:\n",
        "    tsla22_relevant.append(s[0])\n",
        "\n",
        "print(len(tsla22_relevant))"
      ],
      "metadata": {
        "colab": {
          "base_uri": "https://localhost:8080/"
        },
        "id": "ZRVjfyEeaqMk",
        "outputId": "3e3d60df-2003-4356-9699-a5da23368eab"
      },
      "execution_count": 86,
      "outputs": [
        {
          "output_type": "stream",
          "name": "stdout",
          "text": [
            "439\n"
          ]
        }
      ]
    },
    {
      "cell_type": "code",
      "source": [
        "dim = 5\n",
        "offset = 339\n",
        "text_list = tsla22_relevant[offset:(offset+dim)]\n",
        "\n",
        "T=0\n",
        "model=\"gpt-4o\"\n",
        "print(llm_score_for_list(text_list, model, T).choices[0].message.content)\n",
        "\n",
        "\n",
        "dim = 10\n",
        "text_list = tsla22_relevant[offset:(offset+dim)]\n",
        "print(llm_score_for_list(text_list, model, T).choices[0].message.content)"
      ],
      "metadata": {
        "colab": {
          "base_uri": "https://localhost:8080/"
        },
        "id": "I78hZlQGeH_Q",
        "outputId": "e3b4043a-3cc3-4a9f-ae8e-4ffc1c38abb1"
      },
      "execution_count": 88,
      "outputs": [
        {
          "output_type": "stream",
          "name": "stdout",
          "text": [
            "[-0.5, 0.5, -0.2, 0, 0.1]\n",
            "[-0.5, 0.5, -0.2, 0, 0.2, 0.3, 0.6, 0.4, 0.3, 0.7]\n"
          ]
        }
      ]
    },
    {
      "cell_type": "code",
      "source": [
        "# comparison with finVADER\n",
        "for s in text_list:\n",
        "  print( finvader(s, use_sentibignomics = True, use_henry = True, indicator = 'compound') )"
      ],
      "metadata": {
        "colab": {
          "base_uri": "https://localhost:8080/"
        },
        "id": "IeYRvpzn8Bs-",
        "outputId": "dca1a6ab-1cb6-42c8-8336-c111d34eaa20"
      },
      "execution_count": 90,
      "outputs": [
        {
          "output_type": "stream",
          "name": "stdout",
          "text": [
            "-0.3436\n",
            "-0.128\n",
            "0.3226\n",
            "0.3182\n",
            "0.1618\n",
            "0.0323\n",
            "0.3612\n",
            "0.3474\n",
            "0.0116\n",
            "0.7484\n"
          ]
        }
      ]
    },
    {
      "cell_type": "markdown",
      "source": [
        "Conclusion: using a list of 5 to 10 sentences works well"
      ],
      "metadata": {
        "id": "JFvAFpUrZu9q"
      }
    },
    {
      "cell_type": "markdown",
      "source": [
        "Scoring a full 10k report with a single evaluation is not advisable."
      ],
      "metadata": {
        "id": "BR1PHeH1aFq6"
      }
    },
    {
      "cell_type": "code",
      "source": [
        "text_list = tsla22_relevant\n",
        "\n",
        "T=0\n",
        "model=\"gpt-4o\"\n",
        "print(llm_score_for_list(text_list, model, T).choices[0].message.content)"
      ],
      "metadata": {
        "colab": {
          "base_uri": "https://localhost:8080/"
        },
        "id": "K8atMq4qnSKc",
        "outputId": "f2728e9b-1e02-4b63-9b5b-fd45eddb9403"
      },
      "execution_count": 62,
      "outputs": [
        {
          "output_type": "stream",
          "name": "stdout",
          "text": [
            "[-0.1, 0.1, -0.5, 0.3, 0.4, 0.5, 0.5, 0.4, 0.4, 0.4, -0.3, 0.3, 0.3, 0.3, 0.5, 0.5, 0.3, 0.3, -0.4, -0.4, 0.3, 0.4, 0.4, 0.4, 0.4, 0.4, 0.4, -0.6, -0.6, -0.5, -0.5, -0.5, -0.5, -0.5, -0.5, -0.5, -0.5, -0.5, -0.5, -0.5, -0.5, -0.5, -0.5, -0.5, -0.5, -0.5, -0.5, -0.5, -0.5, -0.5, -0.5, -0.5, -0.5, -0.5, -0.5, -0.5, -0.5, -0.5, -0.5, -0.5, -0.5, -0.5, -0.5, -0.5, -0.5, -0.5, -0.5, -0.5, -0.5, -0.5, -0.5, -0.5, -0.5, -0.5, -0.5, -0.5, -0.5, -0.5, -0.5, -0.5, -0.5, -0.5, -0.5, -0.5, -0.5, -0.5, -0.5, -0.5, -0.5, -0.5, -0.5, -0.5, -0.5, -0.5, -0.5, -0.5, -0.5, -0.5, -0.5, -0.5, -0.5, -0.5, -0.5, -0.5, -0.5, -0.5, -0.5, -0.5, -0.5, -0.5, -0.5, -0.5, -0.5, -0.5, -0.5, -0.5, -0.5, -0.5, -0.5, -0.5, -0.5, -0.5, -0.5, -0.5, -0.5, -0.5, -0.5, -0.5, -0.5, -0.5, -0.5, -0.5, -0.5, -0.5, -0.5, -0.5, -0.5, -0.5, -0.5, -0.5, -0.5, -0.5, -0.5, -0.5, -0.5, -0.5, -0.5, -0.5, -0.5, -0.5, -0.5, -0.5, -0.5, -0.5, -0.5, -0.5, -0.5, -0.5, -0.5, -0.5, -0.5, -0.5, -0.5, -0.5, -0.5, -0.5, -0.5, -0.5, -0.5, -0.5, -0.5, -0.5, -0.5, -0.5, -0.5, -0.5, -0.5, -0.5, -0.5, -0.5, -0.5, -0.5, -0.5, -0.5, -0.5, -0.5, -0.5, -0.5, -0.5, -0.5, -0.5, -0.5, -0.5, -0.5, -0.5, -0.5, -0.5, -0.5, -0.5, -0.5, -0.5, -0.5, -0.5, -0.5, -0.5, -0.5, -0.5, -0.5, -0.5, -0.5, -0.5, -0.5, -0.5, -0.5, -0.5, -0.5, -0.5, -0.5, -0.5, -0.5, -0.5, -0.5, -0.5, -0.5, -0.5, -0.5, -0.5, -0.5, -0.5, -0.5, -0.5, -0.5, -0.5, -0.5, -0.5, -0.5, -0.5, -0.5, -0.5, -0.5, -0.5, -0.5, -0.5, -0.5, -0.5, -0.5, -0.5, -0.5, -0.5, -0.5, -0.5, -0.5, -0.5, -0.5, -0.5, -0.5, -0.5, -0.5, -0.5, -0.5, -0.5, -0.5, -0.5, -0.5, -0.5, -0.5, -0.5, -0.5, -0.5, -0.5, -0.5, -0.5, -0.5, -0.5, -0.5, -0.5, -0.5, -0.5, -0.5, -0.5, -0.5, -0.5, -0.5, -0.5, -0.5, -0.5, -0.5, -0.5, -0.5, -0.5, -0.5, -0.5, -0.5, -0.5, -0.5, -0.5, -0.5, -0.5, -0.5, -0.5, -0.5, -0.5, -0.5, -0.5, -0.5, -0.5, -0.5, -0.5, -0.5, -0.5, -0.5, -0.5, -0.5, -0.5, -0.5, -0.5, -0.5, -0.5, -0.5, -0.5, -0.5, -0.5, -0.5, -0.5, -0.5, -0.5, -0.5, -0.5, -0.5, -0.5, -0.5, -0.5, -0.5, -0.5, -0.5, -0.5, -0.5, -0.5, -0.5, -0.5, -0.5, -0.5, -0.5, -0.5, -0.5, -0.5, -0.5, -0.5, -0.5, -0.5, -0.5, -0.5, -0.5, -0.5, -0.5, -0.5, -0.5, -0.5, -0.5, -0.5, -0.5, -0.5, -0.5, -0.5, -0.5, -0.5, -0.5, -0.5, -0.5, -0.5, -0.5, -0.5, -0.5, -0.5, -0.5, -0.5, -0.5, -0.5, -0.5, -0.5, -0.5, -0.5, -0.5, -0.5, -0.5, -0.5, -0.5, -0.5, -0.5, -0.5, -0.5, -0.5, -0.5, -0.5, -0.5, -0.5, -0.5, -0.5, -0.5, -0.5, -0.5, -0.5, -0.5, -0.5, -0.5, -0.5, -0.5, -0.5, -0.5, -0.5, -0.5, -0.5, -0.5, -0.5, -0.5, -0.5, -0.5, -0.5, -0.5, -0.5, -0.5, -0.5, -0.5, -0.5, -0.5, -0.5, -0.5, -0.5, -0.5, -0.5, -0.5, -0.5, -0.5, -0.5, -0.5, -0.5, -0.5, -0.5, -0.5, -0.5, -0.5, -0.5, -0.5, -0.5, -0.5, -0.5, -0.5, -0.5, -0.5, -0.5, -0.5, -0.5, -0.5, -0.5, -0.5, -0.5, -0.5, -0.5, -0.5, -0.5, -0.5, -0.5, -0.5, -0.5, -0.5, -0.5, -0.5, -0.5, -0.5, -0.5, -0.5, -0.5, -0.5, -0.5, -0.5, -0.5, -0.5, -0.5, -0.5, -0.5, -0.5, -0.5, -0.5, -0.5, -0.5, -0.5, -0.5, -0.5, -0.5, -0.5, -0.5, -0.5, -0.5, -0.5, -0.5, -0.5, -0.5, -0.5, -0.5, -0.5, -0.5, -0.5, -0.5, -0.5, -0.5, -0.5, -0.5, -0.5, -0.5, -0.5, -0.5, -0.5, -0.5, -0.5, -0.5, -0.5, -0.5, -0.5, -0.5, -0.5, -0.5, -0.5, -0.5, -0.5, -0.5, -0.5, -0.5, -0.5, -0.5, -0.5, -0.5, -0.5, -0.5, -0.5, -0.5, -0.5, -0.5, -0.5, -0.5, -0.5, -0.5, -0.5, -0.5, -0.5, -0.5, -0.5, -0.5, -0.5, -0.5, -0.5, -0.5, -0.5, -0.5, -0.5, -0.5, -0.5, -0.5, -0.5, -0.5, -0.5, -0.5, -0.5, -0.5, -0.5, -0.5, -0.5, -0.5, -0.5, -0.5, -0.5, -0.5, -0.5, -0.5, -0.5, -0.5, -0.5, -0.5, -0.5, -0.5, -0.5, -0.5, -0.5, -0.5, -0.5, -0.5, -0.5, -0.5, -0.5, -0.5, -0.5, -0.5, -0.5, -0.5, -0.5, -0.5, -0.5, -0.5, -0.5, -0.5, -0.5, -0.5, -0.5, -0.5, -0.5, -0.5, -0.5, -0.5, -0.5, -0.5, -0.5, -0.5, -0.5, -0.5, -0.5, -0.5, -0.5, -0.5, -0.5, -0.5, -0.5, -0.5, -0.5, -0.5, -0.5, -0.5, -0.5, -0.5, -0.5, -0.5, -0.5, -0.5, -0.5, -0.5, -0.5, -0.5, -0.5, -0.5, -0.5, -0.5, -0.5, -0.5, -0.5, -0.5, -0.5, -0.5, -0.5, -0.5, -0.5, -0.5, -0.5, -0.5, -0.5, -0.5, -0.5, -0.5, -0.5, -0.5, -0.5, -0.5, -0.5, -0.5, -0.5, -0.5, -0.5, -0.5, -0.5, -0.5, -0.5, -0.5, -0.5, -0.5, -0.5, -0.5, -0.5, -0.5, -0.5, -0.5, -0.5, -0.5, -0.5, -0.5, -0.5, -0.5, -0.5, -0.5, -0.5, -0.5, -0.5, -0.5, -0.5, -0.5, -0.5, -0.5, -0.5, -0.5, -0.5, -0.5, -0.5, -0.5, -0.5, -0.5, -0.5, -0.5, -0.5, -0.5, -0.5, -0.5, -0.5, -0.5, -0.5, -0.5, -0.5, -0.5, -0.5, -0.5, -0.5, -0.5, -0.5, -0.5, -0.5, -0.5, -0.5, -0.5, -0.5, -0.5, -0.5, -0.5, -0.5, -0.5, -0.5, -0.5, -0.5, -0.5, -0.5, -0.5, -0.5, -0.5, -0.5, -0.5, -0.5, -0.5, -0.5, -0.5, -0.5, -0.5, -0.5, -0.5, -0.5, -0.5, -0.5, -0.5, -0.5, -0.5, -0.5, -0.5, -0.5, -0.5, -0.5, -0.5, -0.5, -0.5, -0.5, -0.5, -0.5, -0.5, -0.5, -0.5, -0.5, -0.5, -0.5, -0.5, -0.5, -0.5, -0.5, -0.5, -0.5, -0.5, -0.5, -0.5, -0.5, -0.5, -0.5, -0.5, -0.5, -0.5, -0.5, -0.5, -0.5, -0.5, -0.5, -0.5, -0.5, -0.5, -0.5, -0.5, -0.5, -0.5, -0.5, -0.5, -0.5, -0.5, -0.5, -0.5, -0.5, -0.5, -0.5, -0.5, -0.5, -0.5, -0.5, -0.5, -0.5, -0.5, -0.5, -0.5, -0.5, -0.5, -0.5, -0.5, -\n"
          ]
        }
      ]
    }
  ]
}