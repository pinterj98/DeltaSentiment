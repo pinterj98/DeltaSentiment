{
 "cells": [
  {
   "cell_type": "code",
   "execution_count": 1,
   "id": "bcc63a4a",
   "metadata": {},
   "outputs": [
    {
     "name": "stdout",
     "output_type": "stream",
     "text": [
      "Collecting openai\n",
      "  Obtaining dependency information for openai from https://files.pythonhosted.org/packages/1d/f8/e36df35b6c3f5fd73cdc655a717931a1d035b441685bc8f7b4aa6076a780/openai-1.29.0-py3-none-any.whl.metadata\n",
      "  Downloading openai-1.29.0-py3-none-any.whl.metadata (21 kB)\n",
      "Requirement already satisfied: anyio<5,>=3.5.0 in c:\\users\\jozsef\\anaconda3\\lib\\site-packages (from openai) (3.5.0)\n",
      "Collecting distro<2,>=1.7.0 (from openai)\n",
      "  Obtaining dependency information for distro<2,>=1.7.0 from https://files.pythonhosted.org/packages/12/b3/231ffd4ab1fc9d679809f356cebee130ac7daa00d6d6f3206dd4fd137e9e/distro-1.9.0-py3-none-any.whl.metadata\n",
      "  Downloading distro-1.9.0-py3-none-any.whl.metadata (6.8 kB)\n",
      "Collecting httpx<1,>=0.23.0 (from openai)\n",
      "  Obtaining dependency information for httpx<1,>=0.23.0 from https://files.pythonhosted.org/packages/41/7b/ddacf6dcebb42466abd03f368782142baa82e08fc0c1f8eaa05b4bae87d5/httpx-0.27.0-py3-none-any.whl.metadata\n",
      "  Downloading httpx-0.27.0-py3-none-any.whl.metadata (7.2 kB)\n",
      "Requirement already satisfied: pydantic<3,>=1.9.0 in c:\\users\\jozsef\\anaconda3\\lib\\site-packages (from openai) (1.10.8)\n",
      "Requirement already satisfied: sniffio in c:\\users\\jozsef\\anaconda3\\lib\\site-packages (from openai) (1.2.0)\n",
      "Requirement already satisfied: tqdm>4 in c:\\users\\jozsef\\anaconda3\\lib\\site-packages (from openai) (4.65.0)\n",
      "Requirement already satisfied: typing-extensions<5,>=4.7 in c:\\users\\jozsef\\anaconda3\\lib\\site-packages (from openai) (4.7.1)\n",
      "Requirement already satisfied: idna>=2.8 in c:\\users\\jozsef\\anaconda3\\lib\\site-packages (from anyio<5,>=3.5.0->openai) (3.4)\n",
      "Requirement already satisfied: certifi in c:\\users\\jozsef\\anaconda3\\lib\\site-packages (from httpx<1,>=0.23.0->openai) (2022.12.7)\n",
      "Collecting httpcore==1.* (from httpx<1,>=0.23.0->openai)\n",
      "  Obtaining dependency information for httpcore==1.* from https://files.pythonhosted.org/packages/78/d4/e5d7e4f2174f8a4d63c8897d79eb8fe2503f7ecc03282fee1fa2719c2704/httpcore-1.0.5-py3-none-any.whl.metadata\n",
      "  Downloading httpcore-1.0.5-py3-none-any.whl.metadata (20 kB)\n",
      "Collecting h11<0.15,>=0.13 (from httpcore==1.*->httpx<1,>=0.23.0->openai)\n",
      "  Obtaining dependency information for h11<0.15,>=0.13 from https://files.pythonhosted.org/packages/95/04/ff642e65ad6b90db43e668d70ffb6736436c7ce41fcc549f4e9472234127/h11-0.14.0-py3-none-any.whl.metadata\n",
      "  Downloading h11-0.14.0-py3-none-any.whl.metadata (8.2 kB)\n",
      "Requirement already satisfied: colorama in c:\\users\\jozsef\\anaconda3\\lib\\site-packages (from tqdm>4->openai) (0.4.6)\n",
      "Downloading openai-1.29.0-py3-none-any.whl (320 kB)\n",
      "   ---------------------------------------- 0.0/320.3 kB ? eta -:--:--\n",
      "   --------------------------------------- 320.3/320.3 kB 10.0 MB/s eta 0:00:00\n",
      "Downloading distro-1.9.0-py3-none-any.whl (20 kB)\n",
      "Downloading httpx-0.27.0-py3-none-any.whl (75 kB)\n",
      "   ---------------------------------------- 0.0/75.6 kB ? eta -:--:--\n",
      "   ---------------------------------------- 75.6/75.6 kB ? eta 0:00:00\n",
      "Downloading httpcore-1.0.5-py3-none-any.whl (77 kB)\n",
      "   ---------------------------------------- 0.0/77.9 kB ? eta -:--:--\n",
      "   ---------------------------------------- 77.9/77.9 kB ? eta 0:00:00\n",
      "Downloading h11-0.14.0-py3-none-any.whl (58 kB)\n",
      "   ---------------------------------------- 0.0/58.3 kB ? eta -:--:--\n",
      "   ---------------------------------------- 58.3/58.3 kB ? eta 0:00:00\n",
      "Installing collected packages: h11, distro, httpcore, httpx, openai\n",
      "Successfully installed distro-1.9.0 h11-0.14.0 httpcore-1.0.5 httpx-0.27.0 openai-1.29.0\n"
     ]
    }
   ],
   "source": [
    "!pip install --upgrade openai"
   ]
  },
  {
   "cell_type": "code",
   "execution_count": 1,
   "id": "96872f7b",
   "metadata": {},
   "outputs": [],
   "source": [
    "import json\n",
    "with open('./combined_sentences.json', 'r', encoding='utf-8') as f:\n",
    "    sentences_dictionary = json.load(f)"
   ]
  },
  {
   "cell_type": "code",
   "execution_count": 3,
   "id": "b18b2ef2",
   "metadata": {},
   "outputs": [],
   "source": [
    "from openai import OpenAI\n",
    "\n",
    "client = OpenAI()"
   ]
  },
  {
   "cell_type": "code",
   "execution_count": 35,
   "id": "e75bda17",
   "metadata": {},
   "outputs": [],
   "source": [
    "lstofsentences=['Many of Abbott’s businesses rely on patent and trademark and other intellectual property protection',\n",
    "                             'Although most of the challenges to Abbott’s intellectual property have come from other companies, governments may also challenge intellectual property protections',\n",
    "                             'Sales outside of the United States in 2022 made up approximately 58 percent of Abbott’s net sales.',\n",
    "                             'In 2022, operating earnings for the Medical Devices segment decreased 2.3 percent.',\n",
    "                             'Excluding the impact of COVID-19 testing-related sales, Abbott’s total net sales decreased 0.3 percent in 2022.',\n",
    "                             'In 2021, U.S.',\n",
    "                             'Rapid Diagnostics sales increased 22.5 percent.',\n",
    "                             'The effects of higher cash and short-term investment balances were more than offset by the impact of lower interest rates on interest income in 2021.',\n",
    "                             'Abbott currently has numerous pharmaceutical, medical devices, diagnostic and nutritional products in development.',\n",
    "                             'The specific requirements (e.g., scope of clinical trials) for obtaining regulatory approval vary across different countries and geographic regions.',\n",
    "                             'Abbott declared dividends of $1.92 per share in 2022 compared to $1.82 per share in 2021, an increase of approximately 5.5 percent.']\n"
   ]
  },
  {
   "cell_type": "code",
   "execution_count": 38,
   "id": "355565ce",
   "metadata": {},
   "outputs": [
    {
     "name": "stdout",
     "output_type": "stream",
     "text": [
      "Please label the sentences given as a list of sentences whether they contain any relevant positive or negative financial sentiment. If they contain any relevant financial sentiment, then label them with 1. If they do not contain any relevant financial sentiment regarding to their financial performance then label them with 0. Only output the labels a list of integers!\n",
      "                            ['Many of Abbott’s businesses rely on patent and trademark and other intellectual property protection', 'Although most of the challenges to Abbott’s intellectual property have come from other companies, governments may also challenge intellectual property protections', 'Sales outside of the United States in 2022 made up approximately 58 percent of Abbott’s net sales.', 'In 2022, operating earnings for the Medical Devices segment decreased 2.3 percent.', 'Excluding the impact of COVID-19 testing-related sales, Abbott’s total net sales decreased 0.3 percent in 2022.', 'In 2021, U.S.', 'Rapid Diagnostics sales increased 22.5 percent.', 'The effects of higher cash and short-term investment balances were more than offset by the impact of lower interest rates on interest income in 2021.', 'Abbott currently has numerous pharmaceutical, medical devices, diagnostic and nutritional products in development.', 'The specific requirements (e.g., scope of clinical trials) for obtaining regulatory approval vary across different countries and geographic regions.', 'Abbott declared dividends of $1.92 per share in 2022 compared to $1.82 per share in 2021, an increase of approximately 5.5 percent.']\n"
     ]
    }
   ],
   "source": [
    "print(f\"\"\"Please label the sentences given as a list of sentences whether they contain any relevant positive or negative financial sentiment. If they contain any relevant financial sentiment, then label them with 1. If they do not contain any relevant financial sentiment regarding to their financial performance then label them with 0. Only output the labels a list of integers!\n",
    "                            {lstofsentences}\"\"\")"
   ]
  },
  {
   "cell_type": "code",
   "execution_count": 42,
   "id": "f80c85de",
   "metadata": {},
   "outputs": [
    {
     "name": "stdout",
     "output_type": "stream",
     "text": [
      "[('Many of Abbott’s businesses rely on patent and trademark and other intellectual property protection', 0), ('Although most of the challenges to Abbott’s intellectual property have come from other companies, governments may also challenge intellectual property protections', 1), ('Sales outside of the United States in 2022 made up approximately 58 percent of Abbott’s net sales.', 0), ('In 2022, operating earnings for the Medical Devices segment decreased 2.3 percent.', 1), ('Excluding the impact of COVID-19 testing-related sales, Abbott’s total net sales decreased 0.3 percent in 2022.', 1), ('In 2021, U.S.', 0), ('Rapid Diagnostics sales increased 22.5 percent.', 1), ('The effects of higher cash and short-term investment balances were more than offset by the impact of lower interest rates on interest income in 2021.', 1), ('Abbott currently has numerous pharmaceutical, medical devices, diagnostic and nutritional products in development.', 0), ('The specific requirements (e.g., scope of clinical trials) for obtaining regulatory approval vary across different countries and geographic regions.', 1), ('Abbott declared dividends of $1.92 per share in 2022 compared to $1.82 per share in 2021, an increase of approximately 5.5 percent.', 1)]\n"
     ]
    }
   ],
   "source": [
    "completion = client.chat.completions.create(\n",
    "  model=\"gpt-3.5-turbo\",\n",
    "  messages=[\n",
    "    {\"role\": \"system\", \"content\": \"You are a financial expert whose task is to label sentences from financial documents whether they contain any relevant positive or negative sentiment (for example increases, decreases in profit, profit margins, gains, losses, lay-offs, etc.) regarding to their financial performance. If a sentence contains any relevant posistive or negative financial sentiment, the label should be 1. If a sentence does not contain any relevant financial sentiment, then the label should be 0.\"},\n",
    "    {\"role\": \"user\", \"content\": f\"\"\"Please label the sentences given in the list of sentences whether they contain any relevant positive or negative financial sentiment. If they contain any relevant financial sentiment, then label them with 1. If they do not contain any relevant financial sentiment regarding to their financial performance then label them with 0. Only output the labels as a list of integers!\n",
    "                            {lstofsentences}\"\"\"}\n",
    "  ]\n",
    ")\n",
    "\n",
    "print(list(zip(lstofsentences,eval(completion.choices[0].message.content))))"
   ]
  },
  {
   "cell_type": "code",
   "execution_count": 48,
   "id": "cdb6fdb1",
   "metadata": {},
   "outputs": [
    {
     "name": "stdout",
     "output_type": "stream",
     "text": [
      "[('Many of Abbott’s businesses rely on patent and trademark and other intellectual property protection', 0), ('Although most of the challenges to Abbott’s intellectual property have come from other companies, governments may also challenge intellectual property protections', 0), ('Sales outside of the United States in 2022 made up approximately 58 percent of Abbott’s net sales.', 0), ('In 2022, operating earnings for the Medical Devices segment decreased 2.3 percent.', 1), ('Excluding the impact of COVID-19 testing-related sales, Abbott’s total net sales decreased 0.3 percent in 2022.', 1)]\n"
     ]
    }
   ],
   "source": [
    "completion = client.chat.completions.create(\n",
    "  model=\"gpt-4-turbo\",\n",
    "  messages=[\n",
    "    {\"role\": \"system\", \"content\": \"You are a financial expert whose task is to label sentences from financial documents whether they contain any relevant positive or negative sentiment (for example increases, decreases in profit, profit margins, gains, losses, lay-offs, etc.) regarding to their financial performance. If a sentence contains any relevant posistive or negative financial sentiment, the label should be 1. If a sentence does not contain any relevant financial sentiment, then the label should be 0.\"},\n",
    "    {\"role\": \"user\", \"content\": f\"\"\"Please label the sentences given in the list of sentences whether they contain any relevant positive or negative financial sentiment. If they contain any relevant financial sentiment, then label them with 1. If they do not contain any relevant financial sentiment regarding to their financial performance then label them with 0. Only output the labels as a list of integers!\n",
    "                            {lstofsentences[:5]}\"\"\"}\n",
    "  ]\n",
    ")\n",
    "\n",
    "print(list(zip(lstofsentences[:5],eval(completion.choices[0].message.content))))"
   ]
  },
  {
   "cell_type": "code",
   "execution_count": 50,
   "id": "b9fc6093",
   "metadata": {},
   "outputs": [
    {
     "name": "stdout",
     "output_type": "stream",
     "text": [
      "[('In 2021, U.S.', 0), ('Rapid Diagnostics sales increased 22.5 percent.', 1), ('The effects of higher cash and short-term investment balances were more than offset by the impact of lower interest rates on interest income in 2021.', 0), ('Abbott currently has numerous pharmaceutical, medical devices, diagnostic and nutritional products in development.', 0), ('The specific requirements (e.g., scope of clinical trials) for obtaining regulatory approval vary across different countries and geographic regions.', 0), ('Abbott declared dividends of $1.92 per share in 2022 compared to $1.82 per share in 2021, an increase of approximately 5.5 percent.', 1)]\n"
     ]
    }
   ],
   "source": [
    "completion = client.chat.completions.create(\n",
    "  model=\"gpt-4-turbo\",\n",
    "  messages=[\n",
    "    {\"role\": \"system\", \"content\": \"You are a financial expert whose task is to label sentences from financial documents whether they contain any relevant positive or negative sentiment (for example increases, decreases in profit, profit margins, gains, losses, lay-offs, etc.) regarding to their financial performance. If a sentence contains any relevant posistive or negative financial sentiment, the label should be 1. If a sentence does not contain any relevant financial sentiment, then the label should be 0.\"},\n",
    "    {\"role\": \"user\", \"content\": f\"\"\"Please label the sentences given in the list of sentences whether they contain any relevant positive or negative financial sentiment. If they contain any relevant financial sentiment, then label them with 1. If they do not contain any relevant financial sentiment regarding to their financial performance then label them with 0. Only output the labels as a list of integers!\n",
    "                            {lstofsentences[5:]}\"\"\"}\n",
    "  ]\n",
    ")\n",
    "\n",
    "print(list(zip(lstofsentences[5:],eval(completion.choices[0].message.content))))"
   ]
  },
  {
   "cell_type": "code",
   "execution_count": 51,
   "id": "3351856d",
   "metadata": {},
   "outputs": [
    {
     "name": "stdout",
     "output_type": "stream",
     "text": [
      "[('Many of Abbott’s businesses rely on patent and trademark and other intellectual property protection', 0), ('Although most of the challenges to Abbott’s intellectual property have come from other companies, governments may also challenge intellectual property protections', 0), ('Sales outside of the United States in 2022 made up approximately 58 percent of Abbott’s net sales.', 0), ('In 2022, operating earnings for the Medical Devices segment decreased 2.3 percent.', 1), ('Excluding the impact of COVID-19 testing-related sales, Abbott’s total net sales decreased 0.3 percent in 2022.', 1)]\n"
     ]
    }
   ],
   "source": [
    "completion = client.chat.completions.create(\n",
    "  model=\"gpt-4o\",\n",
    "  messages=[\n",
    "    {\"role\": \"system\", \"content\": \"You are a financial expert whose task is to label sentences from financial documents whether they contain any relevant positive or negative sentiment (for example increases, decreases in profit, profit margins, gains, losses, lay-offs, etc.) regarding to their financial performance. If a sentence contains any relevant posistive or negative financial sentiment, the label should be 1. If a sentence does not contain any relevant financial sentiment, then the label should be 0.\"},\n",
    "    {\"role\": \"user\", \"content\": f\"\"\"Please label the sentences given in the list of sentences whether they contain any relevant positive or negative financial sentiment. If they contain any relevant financial sentiment, then label them with 1. If they do not contain any relevant financial sentiment regarding to their financial performance then label them with 0. Only output the labels as a list of integers!\n",
    "                            {lstofsentences[:5]}\"\"\"}\n",
    "  ]\n",
    ")\n",
    "\n",
    "print(list(zip(lstofsentences[:5],eval(completion.choices[0].message.content))))"
   ]
  },
  {
   "cell_type": "code",
   "execution_count": 52,
   "id": "fd255f10",
   "metadata": {},
   "outputs": [
    {
     "name": "stdout",
     "output_type": "stream",
     "text": [
      "[('In 2021, U.S.', 0), ('Rapid Diagnostics sales increased 22.5 percent.', 1), ('The effects of higher cash and short-term investment balances were more than offset by the impact of lower interest rates on interest income in 2021.', 1), ('Abbott currently has numerous pharmaceutical, medical devices, diagnostic and nutritional products in development.', 0), ('The specific requirements (e.g., scope of clinical trials) for obtaining regulatory approval vary across different countries and geographic regions.', 0), ('Abbott declared dividends of $1.92 per share in 2022 compared to $1.82 per share in 2021, an increase of approximately 5.5 percent.', 1)]\n"
     ]
    }
   ],
   "source": [
    "completion = client.chat.completions.create(\n",
    "  model=\"gpt-4o\",\n",
    "  messages=[\n",
    "    {\"role\": \"system\", \"content\": \"You are a financial expert whose task is to label sentences from financial documents whether they contain any relevant positive or negative sentiment (for example increases, decreases in profit, profit margins, gains, losses, lay-offs, etc.) regarding to their financial performance. If a sentence contains any relevant posistive or negative financial sentiment, the label should be 1. If a sentence does not contain any relevant financial sentiment, then the label should be 0.\"},\n",
    "    {\"role\": \"user\", \"content\": f\"\"\"Please label the sentences given in the list of sentences whether they contain any relevant positive or negative financial sentiment. If they contain any relevant financial sentiment, then label them with 1. If they do not contain any relevant financial sentiment regarding to their financial performance then label them with 0. Only output the labels as a list of integers!\n",
    "                            {lstofsentences[5:]}\"\"\"}\n",
    "  ]\n",
    ")\n",
    "\n",
    "print(list(zip(lstofsentences[5:],eval(completion.choices[0].message.content))))"
   ]
  },
  {
   "cell_type": "code",
   "execution_count": 53,
   "id": "3fcf9444",
   "metadata": {},
   "outputs": [
    {
     "name": "stdout",
     "output_type": "stream",
     "text": [
      "[('Many of Abbott’s businesses rely on patent and trademark and other intellectual property protection', 0), ('Although most of the challenges to Abbott’s intellectual property have come from other companies, governments may also challenge intellectual property protections', 0), ('Sales outside of the United States in 2022 made up approximately 58 percent of Abbott’s net sales.', 0), ('In 2022, operating earnings for the Medical Devices segment decreased 2.3 percent.', 1), ('Excluding the impact of COVID-19 testing-related sales, Abbott’s total net sales decreased 0.3 percent in 2022.', 1), ('In 2021, U.S.', 0), ('Rapid Diagnostics sales increased 22.5 percent.', 1), ('The effects of higher cash and short-term investment balances were more than offset by the impact of lower interest rates on interest income in 2021.', 0), ('Abbott currently has numerous pharmaceutical, medical devices, diagnostic and nutritional products in development.', 0), ('The specific requirements (e.g., scope of clinical trials) for obtaining regulatory approval vary across different countries and geographic regions.', 0), ('Abbott declared dividends of $1.92 per share in 2022 compared to $1.82 per share in 2021, an increase of approximately 5.5 percent.', 1)]\n"
     ]
    }
   ],
   "source": [
    "completion = client.chat.completions.create(\n",
    "  model=\"gpt-4-turbo\",\n",
    "  messages=[\n",
    "    {\"role\": \"system\", \"content\": \"You are a financial expert whose task is to label sentences from financial documents whether they contain any relevant positive or negative sentiment (for example increases, decreases in profit, profit margins, gains, losses, lay-offs, etc.) regarding to their financial performance. If a sentence contains any relevant posistive or negative financial sentiment, the label should be 1. If a sentence does not contain any relevant financial sentiment, then the label should be 0.\"},\n",
    "    {\"role\": \"user\", \"content\": f\"\"\"Please label the sentences given in the list of sentences whether they contain any relevant positive or negative financial sentiment. If they contain any relevant financial sentiment, then label them with 1. If they do not contain any relevant financial sentiment regarding to their financial performance then label them with 0. Only output the labels as a list of integers!\n",
    "                            {lstofsentences}\"\"\"}\n",
    "  ]\n",
    ")\n",
    "\n",
    "print(list(zip(lstofsentences,eval(completion.choices[0].message.content))))"
   ]
  },
  {
   "cell_type": "code",
   "execution_count": 55,
   "id": "93efbcb8",
   "metadata": {},
   "outputs": [
    {
     "name": "stdout",
     "output_type": "stream",
     "text": [
      "[('Many of Abbott’s businesses rely on patent and trademark and other intellectual property protection', 0), ('Although most of the challenges to Abbott’s intellectual property have come from other companies, governments may also challenge intellectual property protections', 0), ('Sales outside of the United States in 2022 made up approximately 58 percent of Abbott’s net sales.', 0), ('In 2022, operating earnings for the Medical Devices segment decreased 2.3 percent.', 1), ('Excluding the impact of COVID-19 testing-related sales, Abbott’s total net sales decreased 0.3 percent in 2022.', 1), ('In 2021, U.S.', 0), ('Rapid Diagnostics sales increased 22.5 percent.', 1), ('The effects of higher cash and short-term investment balances were more than offset by the impact of lower interest rates on interest income in 2021.', 1), ('Abbott currently has numerous pharmaceutical, medical devices, diagnostic and nutritional products in development.', 0), ('The specific requirements (e.g., scope of clinical trials) for obtaining regulatory approval vary across different countries and geographic regions.', 0), ('Abbott declared dividends of $1.92 per share in 2022 compared to $1.82 per share in 2021, an increase of approximately 5.5 percent.', 1)]\n"
     ]
    }
   ],
   "source": [
    "completion = client.chat.completions.create(\n",
    "  model=\"gpt-4o\",\n",
    "  messages=[\n",
    "    {\"role\": \"system\", \"content\": \"You are a financial expert whose task is to label sentences from financial documents whether they contain any relevant positive or negative sentiment (for example increases, decreases in profit, profit margins, gains, losses, lay-offs, etc.) regarding to their financial performance. If a sentence contains any relevant posistive or negative financial sentiment, the label should be 1. If a sentence does not contain any relevant financial sentiment, then the label should be 0.\"},\n",
    "    {\"role\": \"user\", \"content\": f\"\"\"Please label the sentences given in the list of sentences whether they contain any relevant positive or negative financial sentiment. If they contain any relevant financial sentiment, then label them with 1. If they do not contain any relevant financial sentiment regarding to their financial performance then label them with 0. Only output the labels as a list of integers!\n",
    "                            {lstofsentences}\"\"\"}\n",
    "  ]\n",
    ")\n",
    "\n",
    "print(list(zip(lstofsentences,eval(completion.choices[0].message.content))))"
   ]
  },
  {
   "cell_type": "code",
   "execution_count": 4,
   "id": "47f6e175",
   "metadata": {},
   "outputs": [],
   "source": [
    "from math import floor\n",
    "from tqdm import tqdm"
   ]
  },
  {
   "cell_type": "code",
   "execution_count": 5,
   "id": "a377de67",
   "metadata": {},
   "outputs": [
    {
     "data": {
      "text/plain": [
       "dict_keys(['abt22_sentences', 'abt23_sentences', 'dal22_sentences', 'dal23_sentences', 'ehc22_sentences', 'ehc23_sentences', 'f22_sentences', 'f23_sentences', 'fdx22_sentences', 'fdx23_sentences', 'holx22_sentences', 'holx23_sentences', 'ogn22_sentences', 'ogn23_sentences', 'tsla22_sentences', 'tsla23_sentences', 'ups22_sentences', 'ups23_sentences', 'zbh22_sentences', 'zbh23_sentences'])"
      ]
     },
     "execution_count": 5,
     "metadata": {},
     "output_type": "execute_result"
    }
   ],
   "source": [
    "sentences_dictionary.keys()"
   ]
  },
  {
   "cell_type": "code",
   "execution_count": 6,
   "id": "835af648",
   "metadata": {},
   "outputs": [],
   "source": [
    "abt22_sentences_labeled=[]\n",
    "selected_company='abt22_sentences'"
   ]
  },
  {
   "cell_type": "code",
   "execution_count": 9,
   "id": "ebe82ec1",
   "metadata": {},
   "outputs": [
    {
     "name": "stderr",
     "output_type": "stream",
     "text": [
      "\r",
      "  0%|                                                                                            | 0/1 [00:00<?, ?it/s]"
     ]
    },
    {
     "name": "stdout",
     "output_type": "stream",
     "text": [
      "zbh23_sentences\n"
     ]
    },
    {
     "name": "stderr",
     "output_type": "stream",
     "text": [
      "\n",
      "  0%|                                                                                          | 0/203 [00:00<?, ?it/s]\u001b[A\n",
      "  5%|████▎                                                                           | 11/203 [00:00<00:01, 106.55it/s]\u001b[A\n",
      " 11%|████████▋                                                                       | 22/203 [00:00<00:01, 108.23it/s]\u001b[A\n",
      " 16%|█████████████                                                                   | 33/203 [00:00<00:01, 101.64it/s]\u001b[A\n",
      " 22%|█████████████████▌                                                               | 44/203 [00:00<00:01, 97.48it/s]\u001b[A\n",
      " 28%|██████████████████████▍                                                         | 57/203 [00:00<00:01, 105.94it/s]\u001b[A\n",
      " 34%|███████████████████████████▌                                                    | 70/203 [00:00<00:01, 112.40it/s]\u001b[A\n",
      " 41%|████████████████████████████████▋                                               | 83/203 [00:00<00:01, 116.77it/s]\u001b[A\n",
      " 47%|█████████████████████████████████████▊                                          | 96/203 [00:00<00:00, 120.62it/s]\u001b[A\n",
      " 54%|██████████████████████████████████████████▍                                    | 109/203 [00:00<00:00, 121.03it/s]\u001b[A\n",
      " 60%|███████████████████████████████████████████████▍                               | 122/203 [00:01<00:00, 116.77it/s]\u001b[A\n",
      " 67%|████████████████████████████████████████████████████▌                          | 135/203 [00:01<00:00, 119.81it/s]\u001b[A\n",
      " 73%|█████████████████████████████████████████████████████████▉                     | 149/203 [00:01<00:00, 123.23it/s]\u001b[A\n",
      " 80%|███████████████████████████████████████████████████████████████                | 162/203 [00:01<00:00, 119.94it/s]\u001b[A\n",
      " 86%|████████████████████████████████████████████████████████████████████           | 175/203 [00:01<00:00, 117.48it/s]\u001b[A\n",
      " 92%|█████████████████████████████████████████████████████████████████████████▋      | 187/203 [00:06<00:02,  7.86it/s]\u001b[A\n",
      " 97%|█████████████████████████████████████████████████████████████████████████████▏  | 196/203 [00:15<00:02,  3.18it/s]\u001b[A\n",
      "100%|████████████████████████████████████████████████████████████████████████████████| 203/203 [00:21<00:00,  9.39it/s]\u001b[A\n",
      "  0%|                                                                                            | 0/1 [00:21<?, ?it/s]\n"
     ]
    }
   ],
   "source": [
    "for companyx in tqdm(['zbh23_sentences']):\n",
    "    print(companyx)\n",
    "    #companyx_sentences_labeled=[]\n",
    "    selected_company=companyx\n",
    "    for i in tqdm(range(floor(len(sentences_dictionary[selected_company])/10)+1)):\n",
    "        if i>=183:\n",
    "            lstofsentences=sentences_dictionary[selected_company][10*i : min(10*i+10,len(sentences_dictionary[selected_company]))]\n",
    "            completion = client.chat.completions.create(\n",
    "              model=\"gpt-4o\",\n",
    "              messages=[\n",
    "                {\"role\": \"system\", \"content\": \"You are a financial expert whose task is to label sentences from financial documents whether they contain any relevant positive or negative sentiment (for example increases, decreases in profit, profit margins, gains, losses, lay-offs, etc.) regarding to their financial performance. If a sentence contains any relevant posistive or negative financial sentiment, the label should be 1. If a sentence does not contain any relevant financial sentiment, then the label should be 0.\"},\n",
    "                {\"role\": \"user\", \"content\": f\"\"\"Please label the sentences given in the list of sentences whether they contain any relevant positive or negative financial sentiment. If they contain any relevant financial sentiment, then label them with 1. If they do not contain any relevant financial sentiment regarding to their financial performance then label them with 0. Only output the labels as a list of integers!\n",
    "                                        {lstofsentences}\"\"\"}\n",
    "              ]\n",
    "            )\n",
    "            companyx_sentences_labeled+=(list(zip(lstofsentences,eval(completion.choices[0].message.content))))\n",
    "        with open(f'./RelevanceLabeledSentences/{selected_company}.json', 'w', encoding='utf-8') as f:\n",
    "            json.dump(companyx_sentences_labeled, f, ensure_ascii=False)\n",
    "    break\n",
    "        "
   ]
  },
  {
   "cell_type": "code",
   "execution_count": 81,
   "id": "1434abc0",
   "metadata": {},
   "outputs": [
    {
     "data": {
      "text/plain": [
       "3030"
      ]
     },
     "execution_count": 81,
     "metadata": {},
     "output_type": "execute_result"
    }
   ],
   "source": [
    "len(sentences_dictionary[selected_company])"
   ]
  },
  {
   "cell_type": "code",
   "execution_count": null,
   "id": "8d9544b5",
   "metadata": {},
   "outputs": [],
   "source": []
  }
 ],
 "metadata": {
  "kernelspec": {
   "display_name": "Python 3 (ipykernel)",
   "language": "python",
   "name": "python3"
  },
  "language_info": {
   "codemirror_mode": {
    "name": "ipython",
    "version": 3
   },
   "file_extension": ".py",
   "mimetype": "text/x-python",
   "name": "python",
   "nbconvert_exporter": "python",
   "pygments_lexer": "ipython3",
   "version": "3.11.5"
  }
 },
 "nbformat": 4,
 "nbformat_minor": 5
}
